{
 "cells": [
  {
   "cell_type": "code",
   "execution_count": 1,
   "metadata": {},
   "outputs": [],
   "source": [
    "import pandas as pd\n",
    "%matplotlib inline\n",
    "import matplotlib.pyplot as plt\n",
    "import seaborn as sns"
   ]
  },
  {
   "cell_type": "code",
   "execution_count": 215,
   "metadata": {},
   "outputs": [],
   "source": [
    "test=pd.read_csv(\"C:/Users/User/Downloads/titanic/test.csv\")\n",
    "train=pd.read_csv(\"C:/Users/User/Downloads/titanic/train.csv\")"
   ]
  },
  {
   "cell_type": "code",
   "execution_count": 216,
   "metadata": {
    "scrolled": true
   },
   "outputs": [
    {
     "data": {
      "text/html": [
       "<div>\n",
       "<style scoped>\n",
       "    .dataframe tbody tr th:only-of-type {\n",
       "        vertical-align: middle;\n",
       "    }\n",
       "\n",
       "    .dataframe tbody tr th {\n",
       "        vertical-align: top;\n",
       "    }\n",
       "\n",
       "    .dataframe thead th {\n",
       "        text-align: right;\n",
       "    }\n",
       "</style>\n",
       "<table border=\"1\" class=\"dataframe\">\n",
       "  <thead>\n",
       "    <tr style=\"text-align: right;\">\n",
       "      <th></th>\n",
       "      <th>PassengerId</th>\n",
       "      <th>Pclass</th>\n",
       "      <th>Name</th>\n",
       "      <th>Sex</th>\n",
       "      <th>Age</th>\n",
       "      <th>SibSp</th>\n",
       "      <th>Parch</th>\n",
       "      <th>Ticket</th>\n",
       "      <th>Fare</th>\n",
       "      <th>Cabin</th>\n",
       "      <th>Embarked</th>\n",
       "    </tr>\n",
       "  </thead>\n",
       "  <tbody>\n",
       "    <tr>\n",
       "      <td>0</td>\n",
       "      <td>892</td>\n",
       "      <td>3</td>\n",
       "      <td>Kelly, Mr. James</td>\n",
       "      <td>male</td>\n",
       "      <td>34.5</td>\n",
       "      <td>0</td>\n",
       "      <td>0</td>\n",
       "      <td>330911</td>\n",
       "      <td>7.8292</td>\n",
       "      <td>NaN</td>\n",
       "      <td>Q</td>\n",
       "    </tr>\n",
       "    <tr>\n",
       "      <td>1</td>\n",
       "      <td>893</td>\n",
       "      <td>3</td>\n",
       "      <td>Wilkes, Mrs. James (Ellen Needs)</td>\n",
       "      <td>female</td>\n",
       "      <td>47.0</td>\n",
       "      <td>1</td>\n",
       "      <td>0</td>\n",
       "      <td>363272</td>\n",
       "      <td>7.0000</td>\n",
       "      <td>NaN</td>\n",
       "      <td>S</td>\n",
       "    </tr>\n",
       "    <tr>\n",
       "      <td>2</td>\n",
       "      <td>894</td>\n",
       "      <td>2</td>\n",
       "      <td>Myles, Mr. Thomas Francis</td>\n",
       "      <td>male</td>\n",
       "      <td>62.0</td>\n",
       "      <td>0</td>\n",
       "      <td>0</td>\n",
       "      <td>240276</td>\n",
       "      <td>9.6875</td>\n",
       "      <td>NaN</td>\n",
       "      <td>Q</td>\n",
       "    </tr>\n",
       "    <tr>\n",
       "      <td>3</td>\n",
       "      <td>895</td>\n",
       "      <td>3</td>\n",
       "      <td>Wirz, Mr. Albert</td>\n",
       "      <td>male</td>\n",
       "      <td>27.0</td>\n",
       "      <td>0</td>\n",
       "      <td>0</td>\n",
       "      <td>315154</td>\n",
       "      <td>8.6625</td>\n",
       "      <td>NaN</td>\n",
       "      <td>S</td>\n",
       "    </tr>\n",
       "    <tr>\n",
       "      <td>4</td>\n",
       "      <td>896</td>\n",
       "      <td>3</td>\n",
       "      <td>Hirvonen, Mrs. Alexander (Helga E Lindqvist)</td>\n",
       "      <td>female</td>\n",
       "      <td>22.0</td>\n",
       "      <td>1</td>\n",
       "      <td>1</td>\n",
       "      <td>3101298</td>\n",
       "      <td>12.2875</td>\n",
       "      <td>NaN</td>\n",
       "      <td>S</td>\n",
       "    </tr>\n",
       "  </tbody>\n",
       "</table>\n",
       "</div>"
      ],
      "text/plain": [
       "   PassengerId  Pclass                                          Name     Sex  \\\n",
       "0          892       3                              Kelly, Mr. James    male   \n",
       "1          893       3              Wilkes, Mrs. James (Ellen Needs)  female   \n",
       "2          894       2                     Myles, Mr. Thomas Francis    male   \n",
       "3          895       3                              Wirz, Mr. Albert    male   \n",
       "4          896       3  Hirvonen, Mrs. Alexander (Helga E Lindqvist)  female   \n",
       "\n",
       "    Age  SibSp  Parch   Ticket     Fare Cabin Embarked  \n",
       "0  34.5      0      0   330911   7.8292   NaN        Q  \n",
       "1  47.0      1      0   363272   7.0000   NaN        S  \n",
       "2  62.0      0      0   240276   9.6875   NaN        Q  \n",
       "3  27.0      0      0   315154   8.6625   NaN        S  \n",
       "4  22.0      1      1  3101298  12.2875   NaN        S  "
      ]
     },
     "execution_count": 216,
     "metadata": {},
     "output_type": "execute_result"
    }
   ],
   "source": [
    "test.head()"
   ]
  },
  {
   "cell_type": "code",
   "execution_count": 217,
   "metadata": {},
   "outputs": [
    {
     "data": {
      "text/html": [
       "<div>\n",
       "<style scoped>\n",
       "    .dataframe tbody tr th:only-of-type {\n",
       "        vertical-align: middle;\n",
       "    }\n",
       "\n",
       "    .dataframe tbody tr th {\n",
       "        vertical-align: top;\n",
       "    }\n",
       "\n",
       "    .dataframe thead th {\n",
       "        text-align: right;\n",
       "    }\n",
       "</style>\n",
       "<table border=\"1\" class=\"dataframe\">\n",
       "  <thead>\n",
       "    <tr style=\"text-align: right;\">\n",
       "      <th></th>\n",
       "      <th>PassengerId</th>\n",
       "      <th>Survived</th>\n",
       "      <th>Pclass</th>\n",
       "      <th>Name</th>\n",
       "      <th>Sex</th>\n",
       "      <th>Age</th>\n",
       "      <th>SibSp</th>\n",
       "      <th>Parch</th>\n",
       "      <th>Ticket</th>\n",
       "      <th>Fare</th>\n",
       "      <th>Cabin</th>\n",
       "      <th>Embarked</th>\n",
       "    </tr>\n",
       "  </thead>\n",
       "  <tbody>\n",
       "    <tr>\n",
       "      <td>0</td>\n",
       "      <td>1</td>\n",
       "      <td>0</td>\n",
       "      <td>3</td>\n",
       "      <td>Braund, Mr. Owen Harris</td>\n",
       "      <td>male</td>\n",
       "      <td>22.0</td>\n",
       "      <td>1</td>\n",
       "      <td>0</td>\n",
       "      <td>A/5 21171</td>\n",
       "      <td>7.2500</td>\n",
       "      <td>NaN</td>\n",
       "      <td>S</td>\n",
       "    </tr>\n",
       "    <tr>\n",
       "      <td>1</td>\n",
       "      <td>2</td>\n",
       "      <td>1</td>\n",
       "      <td>1</td>\n",
       "      <td>Cumings, Mrs. John Bradley (Florence Briggs Th...</td>\n",
       "      <td>female</td>\n",
       "      <td>38.0</td>\n",
       "      <td>1</td>\n",
       "      <td>0</td>\n",
       "      <td>PC 17599</td>\n",
       "      <td>71.2833</td>\n",
       "      <td>C85</td>\n",
       "      <td>C</td>\n",
       "    </tr>\n",
       "    <tr>\n",
       "      <td>2</td>\n",
       "      <td>3</td>\n",
       "      <td>1</td>\n",
       "      <td>3</td>\n",
       "      <td>Heikkinen, Miss. Laina</td>\n",
       "      <td>female</td>\n",
       "      <td>26.0</td>\n",
       "      <td>0</td>\n",
       "      <td>0</td>\n",
       "      <td>STON/O2. 3101282</td>\n",
       "      <td>7.9250</td>\n",
       "      <td>NaN</td>\n",
       "      <td>S</td>\n",
       "    </tr>\n",
       "    <tr>\n",
       "      <td>3</td>\n",
       "      <td>4</td>\n",
       "      <td>1</td>\n",
       "      <td>1</td>\n",
       "      <td>Futrelle, Mrs. Jacques Heath (Lily May Peel)</td>\n",
       "      <td>female</td>\n",
       "      <td>35.0</td>\n",
       "      <td>1</td>\n",
       "      <td>0</td>\n",
       "      <td>113803</td>\n",
       "      <td>53.1000</td>\n",
       "      <td>C123</td>\n",
       "      <td>S</td>\n",
       "    </tr>\n",
       "    <tr>\n",
       "      <td>4</td>\n",
       "      <td>5</td>\n",
       "      <td>0</td>\n",
       "      <td>3</td>\n",
       "      <td>Allen, Mr. William Henry</td>\n",
       "      <td>male</td>\n",
       "      <td>35.0</td>\n",
       "      <td>0</td>\n",
       "      <td>0</td>\n",
       "      <td>373450</td>\n",
       "      <td>8.0500</td>\n",
       "      <td>NaN</td>\n",
       "      <td>S</td>\n",
       "    </tr>\n",
       "  </tbody>\n",
       "</table>\n",
       "</div>"
      ],
      "text/plain": [
       "   PassengerId  Survived  Pclass  \\\n",
       "0            1         0       3   \n",
       "1            2         1       1   \n",
       "2            3         1       3   \n",
       "3            4         1       1   \n",
       "4            5         0       3   \n",
       "\n",
       "                                                Name     Sex   Age  SibSp  \\\n",
       "0                            Braund, Mr. Owen Harris    male  22.0      1   \n",
       "1  Cumings, Mrs. John Bradley (Florence Briggs Th...  female  38.0      1   \n",
       "2                             Heikkinen, Miss. Laina  female  26.0      0   \n",
       "3       Futrelle, Mrs. Jacques Heath (Lily May Peel)  female  35.0      1   \n",
       "4                           Allen, Mr. William Henry    male  35.0      0   \n",
       "\n",
       "   Parch            Ticket     Fare Cabin Embarked  \n",
       "0      0         A/5 21171   7.2500   NaN        S  \n",
       "1      0          PC 17599  71.2833   C85        C  \n",
       "2      0  STON/O2. 3101282   7.9250   NaN        S  \n",
       "3      0            113803  53.1000  C123        S  \n",
       "4      0            373450   8.0500   NaN        S  "
      ]
     },
     "execution_count": 217,
     "metadata": {},
     "output_type": "execute_result"
    }
   ],
   "source": [
    "train.head()"
   ]
  },
  {
   "cell_type": "code",
   "execution_count": 257,
   "metadata": {},
   "outputs": [
    {
     "data": {
      "text/plain": [
       "(891, 21)"
      ]
     },
     "execution_count": 257,
     "metadata": {},
     "output_type": "execute_result"
    }
   ],
   "source": [
    "train.shape"
   ]
  },
  {
   "cell_type": "code",
   "execution_count": 219,
   "metadata": {},
   "outputs": [
    {
     "data": {
      "text/plain": [
       "(418, 11)"
      ]
     },
     "execution_count": 219,
     "metadata": {},
     "output_type": "execute_result"
    }
   ],
   "source": [
    "test.shape"
   ]
  },
  {
   "cell_type": "code",
   "execution_count": 220,
   "metadata": {},
   "outputs": [
    {
     "data": {
      "text/html": [
       "<div>\n",
       "<style scoped>\n",
       "    .dataframe tbody tr th:only-of-type {\n",
       "        vertical-align: middle;\n",
       "    }\n",
       "\n",
       "    .dataframe tbody tr th {\n",
       "        vertical-align: top;\n",
       "    }\n",
       "\n",
       "    .dataframe thead th {\n",
       "        text-align: right;\n",
       "    }\n",
       "</style>\n",
       "<table border=\"1\" class=\"dataframe\">\n",
       "  <thead>\n",
       "    <tr style=\"text-align: right;\">\n",
       "      <th></th>\n",
       "      <th>PassengerId</th>\n",
       "      <th>Pclass</th>\n",
       "      <th>Age</th>\n",
       "      <th>SibSp</th>\n",
       "      <th>Parch</th>\n",
       "      <th>Fare</th>\n",
       "    </tr>\n",
       "  </thead>\n",
       "  <tbody>\n",
       "    <tr>\n",
       "      <td>count</td>\n",
       "      <td>418.000000</td>\n",
       "      <td>418.000000</td>\n",
       "      <td>332.000000</td>\n",
       "      <td>418.000000</td>\n",
       "      <td>418.000000</td>\n",
       "      <td>417.000000</td>\n",
       "    </tr>\n",
       "    <tr>\n",
       "      <td>mean</td>\n",
       "      <td>1100.500000</td>\n",
       "      <td>2.265550</td>\n",
       "      <td>30.272590</td>\n",
       "      <td>0.447368</td>\n",
       "      <td>0.392344</td>\n",
       "      <td>35.627188</td>\n",
       "    </tr>\n",
       "    <tr>\n",
       "      <td>std</td>\n",
       "      <td>120.810458</td>\n",
       "      <td>0.841838</td>\n",
       "      <td>14.181209</td>\n",
       "      <td>0.896760</td>\n",
       "      <td>0.981429</td>\n",
       "      <td>55.907576</td>\n",
       "    </tr>\n",
       "    <tr>\n",
       "      <td>min</td>\n",
       "      <td>892.000000</td>\n",
       "      <td>1.000000</td>\n",
       "      <td>0.170000</td>\n",
       "      <td>0.000000</td>\n",
       "      <td>0.000000</td>\n",
       "      <td>0.000000</td>\n",
       "    </tr>\n",
       "    <tr>\n",
       "      <td>25%</td>\n",
       "      <td>996.250000</td>\n",
       "      <td>1.000000</td>\n",
       "      <td>21.000000</td>\n",
       "      <td>0.000000</td>\n",
       "      <td>0.000000</td>\n",
       "      <td>7.895800</td>\n",
       "    </tr>\n",
       "    <tr>\n",
       "      <td>50%</td>\n",
       "      <td>1100.500000</td>\n",
       "      <td>3.000000</td>\n",
       "      <td>27.000000</td>\n",
       "      <td>0.000000</td>\n",
       "      <td>0.000000</td>\n",
       "      <td>14.454200</td>\n",
       "    </tr>\n",
       "    <tr>\n",
       "      <td>75%</td>\n",
       "      <td>1204.750000</td>\n",
       "      <td>3.000000</td>\n",
       "      <td>39.000000</td>\n",
       "      <td>1.000000</td>\n",
       "      <td>0.000000</td>\n",
       "      <td>31.500000</td>\n",
       "    </tr>\n",
       "    <tr>\n",
       "      <td>max</td>\n",
       "      <td>1309.000000</td>\n",
       "      <td>3.000000</td>\n",
       "      <td>76.000000</td>\n",
       "      <td>8.000000</td>\n",
       "      <td>9.000000</td>\n",
       "      <td>512.329200</td>\n",
       "    </tr>\n",
       "  </tbody>\n",
       "</table>\n",
       "</div>"
      ],
      "text/plain": [
       "       PassengerId      Pclass         Age       SibSp       Parch        Fare\n",
       "count   418.000000  418.000000  332.000000  418.000000  418.000000  417.000000\n",
       "mean   1100.500000    2.265550   30.272590    0.447368    0.392344   35.627188\n",
       "std     120.810458    0.841838   14.181209    0.896760    0.981429   55.907576\n",
       "min     892.000000    1.000000    0.170000    0.000000    0.000000    0.000000\n",
       "25%     996.250000    1.000000   21.000000    0.000000    0.000000    7.895800\n",
       "50%    1100.500000    3.000000   27.000000    0.000000    0.000000   14.454200\n",
       "75%    1204.750000    3.000000   39.000000    1.000000    0.000000   31.500000\n",
       "max    1309.000000    3.000000   76.000000    8.000000    9.000000  512.329200"
      ]
     },
     "execution_count": 220,
     "metadata": {},
     "output_type": "execute_result"
    }
   ],
   "source": [
    "test.describe()"
   ]
  },
  {
   "cell_type": "code",
   "execution_count": 258,
   "metadata": {},
   "outputs": [
    {
     "data": {
      "text/html": [
       "<div>\n",
       "<style scoped>\n",
       "    .dataframe tbody tr th:only-of-type {\n",
       "        vertical-align: middle;\n",
       "    }\n",
       "\n",
       "    .dataframe tbody tr th {\n",
       "        vertical-align: top;\n",
       "    }\n",
       "\n",
       "    .dataframe thead th {\n",
       "        text-align: right;\n",
       "    }\n",
       "</style>\n",
       "<table border=\"1\" class=\"dataframe\">\n",
       "  <thead>\n",
       "    <tr style=\"text-align: right;\">\n",
       "      <th></th>\n",
       "      <th>PassengerId</th>\n",
       "      <th>Survived</th>\n",
       "      <th>Pclass</th>\n",
       "      <th>Age</th>\n",
       "      <th>SibSp</th>\n",
       "      <th>Parch</th>\n",
       "      <th>Fare</th>\n",
       "      <th>Sex_encode</th>\n",
       "      <th>Fare_fillin</th>\n",
       "      <th>fares</th>\n",
       "    </tr>\n",
       "  </thead>\n",
       "  <tbody>\n",
       "    <tr>\n",
       "      <td>count</td>\n",
       "      <td>891.000000</td>\n",
       "      <td>891.000000</td>\n",
       "      <td>891.000000</td>\n",
       "      <td>714.000000</td>\n",
       "      <td>891.000000</td>\n",
       "      <td>891.000000</td>\n",
       "      <td>891.000000</td>\n",
       "      <td>891.000000</td>\n",
       "      <td>891.000000</td>\n",
       "      <td>891.000000</td>\n",
       "    </tr>\n",
       "    <tr>\n",
       "      <td>mean</td>\n",
       "      <td>446.000000</td>\n",
       "      <td>0.383838</td>\n",
       "      <td>2.308642</td>\n",
       "      <td>29.699118</td>\n",
       "      <td>0.523008</td>\n",
       "      <td>0.381594</td>\n",
       "      <td>32.204208</td>\n",
       "      <td>0.647587</td>\n",
       "      <td>32.843148</td>\n",
       "      <td>0.702581</td>\n",
       "    </tr>\n",
       "    <tr>\n",
       "      <td>std</td>\n",
       "      <td>257.353842</td>\n",
       "      <td>0.486592</td>\n",
       "      <td>0.836071</td>\n",
       "      <td>14.526497</td>\n",
       "      <td>1.102743</td>\n",
       "      <td>0.806057</td>\n",
       "      <td>49.693429</td>\n",
       "      <td>0.477990</td>\n",
       "      <td>49.657185</td>\n",
       "      <td>0.784817</td>\n",
       "    </tr>\n",
       "    <tr>\n",
       "      <td>min</td>\n",
       "      <td>1.000000</td>\n",
       "      <td>0.000000</td>\n",
       "      <td>1.000000</td>\n",
       "      <td>0.420000</td>\n",
       "      <td>0.000000</td>\n",
       "      <td>0.000000</td>\n",
       "      <td>0.000000</td>\n",
       "      <td>0.000000</td>\n",
       "      <td>4.012500</td>\n",
       "      <td>0.000000</td>\n",
       "    </tr>\n",
       "    <tr>\n",
       "      <td>25%</td>\n",
       "      <td>223.500000</td>\n",
       "      <td>0.000000</td>\n",
       "      <td>2.000000</td>\n",
       "      <td>20.125000</td>\n",
       "      <td>0.000000</td>\n",
       "      <td>0.000000</td>\n",
       "      <td>7.910400</td>\n",
       "      <td>0.000000</td>\n",
       "      <td>7.925000</td>\n",
       "      <td>0.000000</td>\n",
       "    </tr>\n",
       "    <tr>\n",
       "      <td>50%</td>\n",
       "      <td>446.000000</td>\n",
       "      <td>0.000000</td>\n",
       "      <td>3.000000</td>\n",
       "      <td>28.000000</td>\n",
       "      <td>0.000000</td>\n",
       "      <td>0.000000</td>\n",
       "      <td>14.454200</td>\n",
       "      <td>1.000000</td>\n",
       "      <td>14.500000</td>\n",
       "      <td>0.000000</td>\n",
       "    </tr>\n",
       "    <tr>\n",
       "      <td>75%</td>\n",
       "      <td>668.500000</td>\n",
       "      <td>1.000000</td>\n",
       "      <td>3.000000</td>\n",
       "      <td>38.000000</td>\n",
       "      <td>1.000000</td>\n",
       "      <td>0.000000</td>\n",
       "      <td>31.000000</td>\n",
       "      <td>1.000000</td>\n",
       "      <td>31.275000</td>\n",
       "      <td>1.000000</td>\n",
       "    </tr>\n",
       "    <tr>\n",
       "      <td>max</td>\n",
       "      <td>891.000000</td>\n",
       "      <td>1.000000</td>\n",
       "      <td>3.000000</td>\n",
       "      <td>80.000000</td>\n",
       "      <td>8.000000</td>\n",
       "      <td>6.000000</td>\n",
       "      <td>512.329200</td>\n",
       "      <td>1.000000</td>\n",
       "      <td>512.329200</td>\n",
       "      <td>2.000000</td>\n",
       "    </tr>\n",
       "  </tbody>\n",
       "</table>\n",
       "</div>"
      ],
      "text/plain": [
       "       PassengerId    Survived      Pclass         Age       SibSp  \\\n",
       "count   891.000000  891.000000  891.000000  714.000000  891.000000   \n",
       "mean    446.000000    0.383838    2.308642   29.699118    0.523008   \n",
       "std     257.353842    0.486592    0.836071   14.526497    1.102743   \n",
       "min       1.000000    0.000000    1.000000    0.420000    0.000000   \n",
       "25%     223.500000    0.000000    2.000000   20.125000    0.000000   \n",
       "50%     446.000000    0.000000    3.000000   28.000000    0.000000   \n",
       "75%     668.500000    1.000000    3.000000   38.000000    1.000000   \n",
       "max     891.000000    1.000000    3.000000   80.000000    8.000000   \n",
       "\n",
       "            Parch        Fare  Sex_encode  Fare_fillin       fares  \n",
       "count  891.000000  891.000000  891.000000   891.000000  891.000000  \n",
       "mean     0.381594   32.204208    0.647587    32.843148    0.702581  \n",
       "std      0.806057   49.693429    0.477990    49.657185    0.784817  \n",
       "min      0.000000    0.000000    0.000000     4.012500    0.000000  \n",
       "25%      0.000000    7.910400    0.000000     7.925000    0.000000  \n",
       "50%      0.000000   14.454200    1.000000    14.500000    0.000000  \n",
       "75%      0.000000   31.000000    1.000000    31.275000    1.000000  \n",
       "max      6.000000  512.329200    1.000000   512.329200    2.000000  "
      ]
     },
     "execution_count": 258,
     "metadata": {},
     "output_type": "execute_result"
    }
   ],
   "source": [
    "train.describe()"
   ]
  },
  {
   "cell_type": "markdown",
   "metadata": {},
   "source": [
    "\n",
    "# data preprocessing"
   ]
  },
  {
   "cell_type": "code",
   "execution_count": 340,
   "metadata": {},
   "outputs": [
    {
     "data": {
      "text/plain": [
       "PassengerId      0\n",
       "Pclass           0\n",
       "Name             0\n",
       "Sex              0\n",
       "Age             86\n",
       "SibSp            0\n",
       "Parch            0\n",
       "Ticket           0\n",
       "Fare             1\n",
       "Cabin          327\n",
       "Embarked         0\n",
       "title            0\n",
       "young&women      0\n",
       "man              0\n",
       "Embarked_C       0\n",
       "Embarked_S       0\n",
       "Embarked_Q       0\n",
       "Sex_encode       0\n",
       "Fare_fillin      1\n",
       "FamilySize       0\n",
       "FamilyType       0\n",
       "Single           0\n",
       "Nuclear          0\n",
       "Big              0\n",
       "fares           63\n",
       "dtype: int64"
      ]
     },
     "execution_count": 340,
     "metadata": {},
     "output_type": "execute_result"
    }
   ],
   "source": [
    "test.isnull().sum()"
   ]
  },
  {
   "cell_type": "code",
   "execution_count": 223,
   "metadata": {},
   "outputs": [
    {
     "name": "stdout",
     "output_type": "stream",
     "text": [
      "['Mr' 'Mrs' 'Miss' 'Master' 'Don' 'Rev' 'Dr' 'Mme' 'Ms' 'Major' 'Lady'\n",
      " 'Sir' 'Mlle' 'Col' 'Capt' 'the Countess' 'Jonkheer'] ['Mr' 'Mrs' 'Miss' 'Master' 'Ms' 'Col' 'Rev' 'Dr' 'Dona']\n"
     ]
    }
   ],
   "source": [
    "def get_title(name):\n",
    "    return name.split(', ')[1].split('.')[0]\n",
    "\n",
    "train[\"title\"]=train[\"Name\"].apply(get_title)\n",
    "test[\"title\"]=test[\"Name\"].apply(get_title)\n",
    "print(train[\"title\"].unique(),test[\"title\"].unique())"
   ]
  },
  {
   "cell_type": "code",
   "execution_count": 224,
   "metadata": {},
   "outputs": [
    {
     "data": {
      "image/png": "[encoded data removed]",
      "text/plain": [
       "<Figure size 1440x1080 with 4 Axes>"
      ]
     },
     "metadata": {
      "needs_background": "light"
     },
     "output_type": "display_data"
    }
   ],
   "source": [
    "f, ax = plt.subplots(2, 2, figsize=(20,15))\n",
    "sns.countplot('Embarked', data=train,ax=ax[0,0])\n",
    "ax[0,0].set_title('No. Of Passengers Boarded')\n",
    "sns.countplot('Embarked',hue='Sex',data=train,ax=ax[0,1])\n",
    "ax[0,1].set_title('Male-Female Split for Embarked')\n",
    "sns.countplot('Embarked',hue='Survived',data=train,ax=ax[1,0])\n",
    "ax[1,0].set_title('Embarked vs Survived')\n",
    "sns.countplot('Embarked',hue='Pclass',data=train,ax=ax[1,1])\n",
    "ax[1,1].set_title('Embarked vs Pclass')\n",
    "plt.show()"
   ]
  },
  {
   "cell_type": "code",
   "execution_count": 225,
   "metadata": {},
   "outputs": [
    {
     "data": {
      "text/plain": [
       "<matplotlib.axes._subplots.AxesSubplot at 0x27093396088>"
      ]
     },
     "execution_count": 225,
     "metadata": {},
     "output_type": "execute_result"
    },
    {
     "data": {
      "image/png": "[encoded data removed]",
      "text/plain": [
       "<Figure size 432x288 with 1 Axes>"
      ]
     },
     "metadata": {
      "needs_background": "light"
     },
     "output_type": "display_data"
    }
   ],
   "source": [
    "sns.countplot(x=\"title\", hue=\"Survived\",data=train)"
   ]
  },
  {
   "cell_type": "markdown",
   "metadata": {},
   "source": [
    "- train으로 survived와 변수와의 상관관계를 밝히고 test로 넘어간다"
   ]
  },
  {
   "cell_type": "code",
   "execution_count": 226,
   "metadata": {},
   "outputs": [],
   "source": [
    "train[\"young&women\"]=(train[\"title\"]==\"Mrs\") | (train[\"title\"]==\"Miss\") | (train[\"title\"]==\"Master\") | (train[\"title\"]==\"Ms\")\\\n",
    "|(train[\"title\"]==\"Lady\") | (train[\"title\"]==\"the Countess\") |(train[\"title\"]==\"Mme\") | (train[\"title\"]==\"Mlle\") |(train[\"title\"]==\"Dr\")\n",
    "\n",
    "train[\"man\"]=(train[\"title\"]==\"Mr\")|(train[\"title\"]==\"Col\")|(train[\"title\"]==\"Rev\")|(train[\"title\"]==\"Don\")\n",
    "\n",
    "test[\"young&women\"]=(test[\"title\"]==\"Mrs\") | (test[\"title\"]==\"Miss\") | (test[\"title\"]==\"Master\")| (test[\"title\"]==\"Ms\")\\\n",
    "|(test[\"title\"]==\"Dona\")|(train[\"title\"]==\"Dr\")\n",
    "test[\"man\"]= (test[\"title\"]==\"Mr\")|(test[\"title\"]==\"Col\")|(test[\"title\"]==\"Rev\")"
   ]
  },
  {
   "cell_type": "code",
   "execution_count": 227,
   "metadata": {},
   "outputs": [
    {
     "name": "stdout",
     "output_type": "stream",
     "text": [
      "PassengerId                      887\n",
      "Survived                           0\n",
      "Pclass                             2\n",
      "Name           Montvila, Rev. Juozas\n",
      "Sex                             male\n",
      "Age                               27\n",
      "SibSp                              0\n",
      "Parch                              0\n",
      "Ticket                        211536\n",
      "Fare                              13\n",
      "Cabin                            NaN\n",
      "Embarked                           S\n",
      "title                            Rev\n",
      "young&women                    False\n",
      "man                             True\n",
      "Name: 886, dtype: object\n"
     ]
    }
   ],
   "source": [
    "print(train.loc[886])"
   ]
  },
  {
   "cell_type": "code",
   "execution_count": 228,
   "metadata": {
    "scrolled": false
   },
   "outputs": [
    {
     "data": {
      "text/plain": [
       "PassengerId      0\n",
       "Survived         0\n",
       "Pclass           0\n",
       "Name             0\n",
       "Sex              0\n",
       "Age            177\n",
       "SibSp            0\n",
       "Parch            0\n",
       "Ticket           0\n",
       "Fare             0\n",
       "Cabin          687\n",
       "Embarked         2\n",
       "title            0\n",
       "young&women      0\n",
       "man              0\n",
       "dtype: int64"
      ]
     },
     "execution_count": 228,
     "metadata": {},
     "output_type": "execute_result"
    }
   ],
   "source": [
    "train.isnull().sum()"
   ]
  },
  {
   "cell_type": "code",
   "execution_count": 229,
   "metadata": {},
   "outputs": [
    {
     "data": {
      "text/plain": [
       "<matplotlib.axes._subplots.AxesSubplot at 0x270951e5d08>"
      ]
     },
     "execution_count": 229,
     "metadata": {},
     "output_type": "execute_result"
    },
    {
     "data": {
      "image/png": "[encoded data removed]",
      "text/plain": [
       "<Figure size 432x288 with 1 Axes>"
      ]
     },
     "metadata": {
      "needs_background": "light"
     },
     "output_type": "display_data"
    }
   ],
   "source": [
    "sns.countplot(data=train, x=\"Sex\", hue=\"Survived\")"
   ]
  },
  {
   "cell_type": "code",
   "execution_count": 230,
   "metadata": {},
   "outputs": [
    {
     "data": {
      "text/html": [
       "<div>\n",
       "<style scoped>\n",
       "    .dataframe tbody tr th:only-of-type {\n",
       "        vertical-align: middle;\n",
       "    }\n",
       "\n",
       "    .dataframe tbody tr th {\n",
       "        vertical-align: top;\n",
       "    }\n",
       "\n",
       "    .dataframe thead th {\n",
       "        text-align: right;\n",
       "    }\n",
       "</style>\n",
       "<table border=\"1\" class=\"dataframe\">\n",
       "  <thead>\n",
       "    <tr style=\"text-align: right;\">\n",
       "      <th></th>\n",
       "      <th>Survived</th>\n",
       "    </tr>\n",
       "    <tr>\n",
       "      <th>title</th>\n",
       "      <th></th>\n",
       "    </tr>\n",
       "  </thead>\n",
       "  <tbody>\n",
       "    <tr>\n",
       "      <td>Capt</td>\n",
       "      <td>0.000000</td>\n",
       "    </tr>\n",
       "    <tr>\n",
       "      <td>Col</td>\n",
       "      <td>0.500000</td>\n",
       "    </tr>\n",
       "    <tr>\n",
       "      <td>Don</td>\n",
       "      <td>0.000000</td>\n",
       "    </tr>\n",
       "    <tr>\n",
       "      <td>Dr</td>\n",
       "      <td>0.428571</td>\n",
       "    </tr>\n",
       "    <tr>\n",
       "      <td>Jonkheer</td>\n",
       "      <td>0.000000</td>\n",
       "    </tr>\n",
       "    <tr>\n",
       "      <td>Lady</td>\n",
       "      <td>1.000000</td>\n",
       "    </tr>\n",
       "    <tr>\n",
       "      <td>Major</td>\n",
       "      <td>0.500000</td>\n",
       "    </tr>\n",
       "    <tr>\n",
       "      <td>Master</td>\n",
       "      <td>0.575000</td>\n",
       "    </tr>\n",
       "    <tr>\n",
       "      <td>Miss</td>\n",
       "      <td>0.697802</td>\n",
       "    </tr>\n",
       "    <tr>\n",
       "      <td>Mlle</td>\n",
       "      <td>1.000000</td>\n",
       "    </tr>\n",
       "    <tr>\n",
       "      <td>Mme</td>\n",
       "      <td>1.000000</td>\n",
       "    </tr>\n",
       "    <tr>\n",
       "      <td>Mr</td>\n",
       "      <td>0.156673</td>\n",
       "    </tr>\n",
       "    <tr>\n",
       "      <td>Mrs</td>\n",
       "      <td>0.792000</td>\n",
       "    </tr>\n",
       "    <tr>\n",
       "      <td>Ms</td>\n",
       "      <td>1.000000</td>\n",
       "    </tr>\n",
       "    <tr>\n",
       "      <td>Rev</td>\n",
       "      <td>0.000000</td>\n",
       "    </tr>\n",
       "    <tr>\n",
       "      <td>Sir</td>\n",
       "      <td>1.000000</td>\n",
       "    </tr>\n",
       "    <tr>\n",
       "      <td>the Countess</td>\n",
       "      <td>1.000000</td>\n",
       "    </tr>\n",
       "  </tbody>\n",
       "</table>\n",
       "</div>"
      ],
      "text/plain": [
       "              Survived\n",
       "title                 \n",
       "Capt          0.000000\n",
       "Col           0.500000\n",
       "Don           0.000000\n",
       "Dr            0.428571\n",
       "Jonkheer      0.000000\n",
       "Lady          1.000000\n",
       "Major         0.500000\n",
       "Master        0.575000\n",
       "Miss          0.697802\n",
       "Mlle          1.000000\n",
       "Mme           1.000000\n",
       "Mr            0.156673\n",
       "Mrs           0.792000\n",
       "Ms            1.000000\n",
       "Rev           0.000000\n",
       "Sir           1.000000\n",
       "the Countess  1.000000"
      ]
     },
     "execution_count": 230,
     "metadata": {},
     "output_type": "execute_result"
    }
   ],
   "source": [
    "pd.pivot_table(train, index=\"title\", values=\"Survived\")"
   ]
  },
  {
   "cell_type": "markdown",
   "metadata": {},
   "source": [
    "- 여성승객이 남성승객보다 생존율이높다\n",
    "- 성별은 생존률에 유의미한 변수이다"
   ]
  },
  {
   "cell_type": "code",
   "execution_count": 231,
   "metadata": {},
   "outputs": [
    {
     "name": "stdout",
     "output_type": "stream",
     "text": [
      "<class 'pandas.core.frame.DataFrame'>\n",
      "RangeIndex: 891 entries, 0 to 890\n",
      "Data columns (total 15 columns):\n",
      "PassengerId    891 non-null int64\n",
      "Survived       891 non-null int64\n",
      "Pclass         891 non-null int64\n",
      "Name           891 non-null object\n",
      "Sex            891 non-null object\n",
      "Age            714 non-null float64\n",
      "SibSp          891 non-null int64\n",
      "Parch          891 non-null int64\n",
      "Ticket         891 non-null object\n",
      "Fare           891 non-null float64\n",
      "Cabin          204 non-null object\n",
      "Embarked       889 non-null object\n",
      "title          891 non-null object\n",
      "young&women    891 non-null bool\n",
      "man            891 non-null bool\n",
      "dtypes: bool(2), float64(2), int64(5), object(6)\n",
      "memory usage: 92.4+ KB\n"
     ]
    }
   ],
   "source": [
    "train.info()"
   ]
  },
  {
   "cell_type": "markdown",
   "metadata": {},
   "source": [
    "\n",
    "# EDA 탐색적 자료 분석"
   ]
  },
  {
   "cell_type": "code",
   "execution_count": 232,
   "metadata": {},
   "outputs": [
    {
     "data": {
      "text/plain": [
       "<matplotlib.axes._subplots.AxesSubplot at 0x270963cd1c8>"
      ]
     },
     "execution_count": 232,
     "metadata": {},
     "output_type": "execute_result"
    },
    {
     "data": {
      "image/png": "[encoded data removed]",
      "text/plain": [
       "<Figure size 432x288 with 1 Axes>"
      ]
     },
     "metadata": {
      "needs_background": "light"
     },
     "output_type": "display_data"
    }
   ],
   "source": [
    "sns.countplot(data=train, x=\"Pclass\", hue=\"Survived\")"
   ]
  },
  {
   "cell_type": "code",
   "execution_count": 233,
   "metadata": {
    "scrolled": true
   },
   "outputs": [
    {
     "data": {
      "text/html": [
       "<div>\n",
       "<style scoped>\n",
       "    .dataframe tbody tr th:only-of-type {\n",
       "        vertical-align: middle;\n",
       "    }\n",
       "\n",
       "    .dataframe tbody tr th {\n",
       "        vertical-align: top;\n",
       "    }\n",
       "\n",
       "    .dataframe thead th {\n",
       "        text-align: right;\n",
       "    }\n",
       "</style>\n",
       "<table border=\"1\" class=\"dataframe\">\n",
       "  <thead>\n",
       "    <tr style=\"text-align: right;\">\n",
       "      <th></th>\n",
       "      <th>Survived</th>\n",
       "    </tr>\n",
       "    <tr>\n",
       "      <th>Pclass</th>\n",
       "      <th></th>\n",
       "    </tr>\n",
       "  </thead>\n",
       "  <tbody>\n",
       "    <tr>\n",
       "      <td>1</td>\n",
       "      <td>0.629630</td>\n",
       "    </tr>\n",
       "    <tr>\n",
       "      <td>2</td>\n",
       "      <td>0.472826</td>\n",
       "    </tr>\n",
       "    <tr>\n",
       "      <td>3</td>\n",
       "      <td>0.242363</td>\n",
       "    </tr>\n",
       "  </tbody>\n",
       "</table>\n",
       "</div>"
      ],
      "text/plain": [
       "        Survived\n",
       "Pclass          \n",
       "1       0.629630\n",
       "2       0.472826\n",
       "3       0.242363"
      ]
     },
     "execution_count": 233,
     "metadata": {},
     "output_type": "execute_result"
    }
   ],
   "source": [
    "pd.pivot_table(train, index=\"Pclass\", values=\"Survived\")"
   ]
  },
  {
   "cell_type": "markdown",
   "metadata": {},
   "source": [
    "- 3등객실에 비해 1등객실의 생존률이 높다\n",
    "- 객실 등급은 생존률에 유의미한 변수이다"
   ]
  },
  {
   "cell_type": "code",
   "execution_count": 234,
   "metadata": {},
   "outputs": [
    {
     "data": {
      "text/plain": [
       "<matplotlib.axes._subplots.AxesSubplot at 0x27096426cc8>"
      ]
     },
     "execution_count": 234,
     "metadata": {},
     "output_type": "execute_result"
    },
    {
     "data": {
      "image/png": "[encoded data removed]",
      "text/plain": [
       "<Figure size 432x288 with 1 Axes>"
      ]
     },
     "metadata": {
      "needs_background": "light"
     },
     "output_type": "display_data"
    }
   ],
   "source": [
    "sns.countplot(data=train, x=\"Embarked\", hue=\"Survived\")"
   ]
  },
  {
   "cell_type": "code",
   "execution_count": 235,
   "metadata": {},
   "outputs": [
    {
     "data": {
      "text/html": [
       "<div>\n",
       "<style scoped>\n",
       "    .dataframe tbody tr th:only-of-type {\n",
       "        vertical-align: middle;\n",
       "    }\n",
       "\n",
       "    .dataframe tbody tr th {\n",
       "        vertical-align: top;\n",
       "    }\n",
       "\n",
       "    .dataframe thead th {\n",
       "        text-align: right;\n",
       "    }\n",
       "</style>\n",
       "<table border=\"1\" class=\"dataframe\">\n",
       "  <thead>\n",
       "    <tr style=\"text-align: right;\">\n",
       "      <th></th>\n",
       "      <th>Survived</th>\n",
       "    </tr>\n",
       "    <tr>\n",
       "      <th>Embarked</th>\n",
       "      <th></th>\n",
       "    </tr>\n",
       "  </thead>\n",
       "  <tbody>\n",
       "    <tr>\n",
       "      <td>C</td>\n",
       "      <td>0.553571</td>\n",
       "    </tr>\n",
       "    <tr>\n",
       "      <td>Q</td>\n",
       "      <td>0.389610</td>\n",
       "    </tr>\n",
       "    <tr>\n",
       "      <td>S</td>\n",
       "      <td>0.336957</td>\n",
       "    </tr>\n",
       "  </tbody>\n",
       "</table>\n",
       "</div>"
      ],
      "text/plain": [
       "          Survived\n",
       "Embarked          \n",
       "C         0.553571\n",
       "Q         0.389610\n",
       "S         0.336957"
      ]
     },
     "execution_count": 235,
     "metadata": {},
     "output_type": "execute_result"
    }
   ],
   "source": [
    "pd.pivot_table(train, index=\"Embarked\", values=\"Survived\")"
   ]
  },
  {
   "cell_type": "code",
   "execution_count": 262,
   "metadata": {},
   "outputs": [],
   "source": [
    "train[\"Embarked\"]=train[\"Embarked\"].fillna(\"S\")\n",
    "train[\"Embarked_C\"] = train[\"Embarked\"] == \"C\"\n",
    "train[\"Embarked_S\"] = train[\"Embarked\"] == \"S\"\n",
    "train[\"Embarked_Q\"] = train[\"Embarked\"] == \"Q\""
   ]
  },
  {
   "cell_type": "code",
   "execution_count": 263,
   "metadata": {},
   "outputs": [
    {
     "data": {
      "text/html": [
       "<div>\n",
       "<style scoped>\n",
       "    .dataframe tbody tr th:only-of-type {\n",
       "        vertical-align: middle;\n",
       "    }\n",
       "\n",
       "    .dataframe tbody tr th {\n",
       "        vertical-align: top;\n",
       "    }\n",
       "\n",
       "    .dataframe thead th {\n",
       "        text-align: right;\n",
       "    }\n",
       "</style>\n",
       "<table border=\"1\" class=\"dataframe\">\n",
       "  <thead>\n",
       "    <tr style=\"text-align: right;\">\n",
       "      <th></th>\n",
       "      <th>Embarked</th>\n",
       "      <th>Embarked_C</th>\n",
       "      <th>Embarked_S</th>\n",
       "      <th>Embarked_Q</th>\n",
       "    </tr>\n",
       "  </thead>\n",
       "  <tbody>\n",
       "    <tr>\n",
       "      <td>0</td>\n",
       "      <td>S</td>\n",
       "      <td>False</td>\n",
       "      <td>True</td>\n",
       "      <td>False</td>\n",
       "    </tr>\n",
       "    <tr>\n",
       "      <td>1</td>\n",
       "      <td>C</td>\n",
       "      <td>True</td>\n",
       "      <td>False</td>\n",
       "      <td>False</td>\n",
       "    </tr>\n",
       "    <tr>\n",
       "      <td>2</td>\n",
       "      <td>S</td>\n",
       "      <td>False</td>\n",
       "      <td>True</td>\n",
       "      <td>False</td>\n",
       "    </tr>\n",
       "    <tr>\n",
       "      <td>3</td>\n",
       "      <td>S</td>\n",
       "      <td>False</td>\n",
       "      <td>True</td>\n",
       "      <td>False</td>\n",
       "    </tr>\n",
       "    <tr>\n",
       "      <td>4</td>\n",
       "      <td>S</td>\n",
       "      <td>False</td>\n",
       "      <td>True</td>\n",
       "      <td>False</td>\n",
       "    </tr>\n",
       "  </tbody>\n",
       "</table>\n",
       "</div>"
      ],
      "text/plain": [
       "  Embarked  Embarked_C  Embarked_S  Embarked_Q\n",
       "0        S       False        True       False\n",
       "1        C        True       False       False\n",
       "2        S       False        True       False\n",
       "3        S       False        True       False\n",
       "4        S       False        True       False"
      ]
     },
     "execution_count": 263,
     "metadata": {},
     "output_type": "execute_result"
    }
   ],
   "source": [
    "train[[\"Embarked\", \"Embarked_C\", \"Embarked_S\", \"Embarked_Q\"]].head()"
   ]
  },
  {
   "cell_type": "code",
   "execution_count": 264,
   "metadata": {},
   "outputs": [
    {
     "data": {
      "text/plain": [
       "(891, 21)"
      ]
     },
     "execution_count": 264,
     "metadata": {},
     "output_type": "execute_result"
    }
   ],
   "source": [
    "train.shape"
   ]
  },
  {
   "cell_type": "code",
   "execution_count": 240,
   "metadata": {},
   "outputs": [
    {
     "data": {
      "text/html": [
       "<div>\n",
       "<style scoped>\n",
       "    .dataframe tbody tr th:only-of-type {\n",
       "        vertical-align: middle;\n",
       "    }\n",
       "\n",
       "    .dataframe tbody tr th {\n",
       "        vertical-align: top;\n",
       "    }\n",
       "\n",
       "    .dataframe thead th {\n",
       "        text-align: right;\n",
       "    }\n",
       "</style>\n",
       "<table border=\"1\" class=\"dataframe\">\n",
       "  <thead>\n",
       "    <tr style=\"text-align: right;\">\n",
       "      <th></th>\n",
       "      <th>PassengerId</th>\n",
       "      <th>Survived</th>\n",
       "      <th>Pclass</th>\n",
       "      <th>Name</th>\n",
       "      <th>Sex</th>\n",
       "      <th>Age</th>\n",
       "      <th>SibSp</th>\n",
       "      <th>Parch</th>\n",
       "      <th>Ticket</th>\n",
       "      <th>Fare</th>\n",
       "      <th>Cabin</th>\n",
       "      <th>Embarked</th>\n",
       "      <th>title</th>\n",
       "      <th>young&amp;women</th>\n",
       "      <th>man</th>\n",
       "      <th>Embarked_C</th>\n",
       "      <th>Embarked_S</th>\n",
       "      <th>Embarked_Q</th>\n",
       "    </tr>\n",
       "  </thead>\n",
       "  <tbody>\n",
       "    <tr>\n",
       "      <td>0</td>\n",
       "      <td>1</td>\n",
       "      <td>0</td>\n",
       "      <td>3</td>\n",
       "      <td>Braund, Mr. Owen Harris</td>\n",
       "      <td>male</td>\n",
       "      <td>22.0</td>\n",
       "      <td>1</td>\n",
       "      <td>0</td>\n",
       "      <td>A/5 21171</td>\n",
       "      <td>7.2500</td>\n",
       "      <td>NaN</td>\n",
       "      <td>S</td>\n",
       "      <td>Mr</td>\n",
       "      <td>False</td>\n",
       "      <td>True</td>\n",
       "      <td>False</td>\n",
       "      <td>True</td>\n",
       "      <td>False</td>\n",
       "    </tr>\n",
       "    <tr>\n",
       "      <td>1</td>\n",
       "      <td>2</td>\n",
       "      <td>1</td>\n",
       "      <td>1</td>\n",
       "      <td>Cumings, Mrs. John Bradley (Florence Briggs Th...</td>\n",
       "      <td>female</td>\n",
       "      <td>38.0</td>\n",
       "      <td>1</td>\n",
       "      <td>0</td>\n",
       "      <td>PC 17599</td>\n",
       "      <td>71.2833</td>\n",
       "      <td>C85</td>\n",
       "      <td>C</td>\n",
       "      <td>Mrs</td>\n",
       "      <td>True</td>\n",
       "      <td>False</td>\n",
       "      <td>True</td>\n",
       "      <td>False</td>\n",
       "      <td>False</td>\n",
       "    </tr>\n",
       "    <tr>\n",
       "      <td>2</td>\n",
       "      <td>3</td>\n",
       "      <td>1</td>\n",
       "      <td>3</td>\n",
       "      <td>Heikkinen, Miss. Laina</td>\n",
       "      <td>female</td>\n",
       "      <td>26.0</td>\n",
       "      <td>0</td>\n",
       "      <td>0</td>\n",
       "      <td>STON/O2. 3101282</td>\n",
       "      <td>7.9250</td>\n",
       "      <td>NaN</td>\n",
       "      <td>S</td>\n",
       "      <td>Miss</td>\n",
       "      <td>True</td>\n",
       "      <td>False</td>\n",
       "      <td>False</td>\n",
       "      <td>True</td>\n",
       "      <td>False</td>\n",
       "    </tr>\n",
       "    <tr>\n",
       "      <td>3</td>\n",
       "      <td>4</td>\n",
       "      <td>1</td>\n",
       "      <td>1</td>\n",
       "      <td>Futrelle, Mrs. Jacques Heath (Lily May Peel)</td>\n",
       "      <td>female</td>\n",
       "      <td>35.0</td>\n",
       "      <td>1</td>\n",
       "      <td>0</td>\n",
       "      <td>113803</td>\n",
       "      <td>53.1000</td>\n",
       "      <td>C123</td>\n",
       "      <td>S</td>\n",
       "      <td>Mrs</td>\n",
       "      <td>True</td>\n",
       "      <td>False</td>\n",
       "      <td>False</td>\n",
       "      <td>True</td>\n",
       "      <td>False</td>\n",
       "    </tr>\n",
       "    <tr>\n",
       "      <td>4</td>\n",
       "      <td>5</td>\n",
       "      <td>0</td>\n",
       "      <td>3</td>\n",
       "      <td>Allen, Mr. William Henry</td>\n",
       "      <td>male</td>\n",
       "      <td>35.0</td>\n",
       "      <td>0</td>\n",
       "      <td>0</td>\n",
       "      <td>373450</td>\n",
       "      <td>8.0500</td>\n",
       "      <td>NaN</td>\n",
       "      <td>S</td>\n",
       "      <td>Mr</td>\n",
       "      <td>False</td>\n",
       "      <td>True</td>\n",
       "      <td>False</td>\n",
       "      <td>True</td>\n",
       "      <td>False</td>\n",
       "    </tr>\n",
       "  </tbody>\n",
       "</table>\n",
       "</div>"
      ],
      "text/plain": [
       "   PassengerId  Survived  Pclass  \\\n",
       "0            1         0       3   \n",
       "1            2         1       1   \n",
       "2            3         1       3   \n",
       "3            4         1       1   \n",
       "4            5         0       3   \n",
       "\n",
       "                                                Name     Sex   Age  SibSp  \\\n",
       "0                            Braund, Mr. Owen Harris    male  22.0      1   \n",
       "1  Cumings, Mrs. John Bradley (Florence Briggs Th...  female  38.0      1   \n",
       "2                             Heikkinen, Miss. Laina  female  26.0      0   \n",
       "3       Futrelle, Mrs. Jacques Heath (Lily May Peel)  female  35.0      1   \n",
       "4                           Allen, Mr. William Henry    male  35.0      0   \n",
       "\n",
       "   Parch            Ticket     Fare Cabin Embarked title  young&women    man  \\\n",
       "0      0         A/5 21171   7.2500   NaN        S    Mr        False   True   \n",
       "1      0          PC 17599  71.2833   C85        C   Mrs         True  False   \n",
       "2      0  STON/O2. 3101282   7.9250   NaN        S  Miss         True  False   \n",
       "3      0            113803  53.1000  C123        S   Mrs         True  False   \n",
       "4      0            373450   8.0500   NaN        S    Mr        False   True   \n",
       "\n",
       "   Embarked_C  Embarked_S  Embarked_Q  \n",
       "0       False        True       False  \n",
       "1        True       False       False  \n",
       "2       False        True       False  \n",
       "3       False        True       False  \n",
       "4       False        True       False  "
      ]
     },
     "execution_count": 240,
     "metadata": {},
     "output_type": "execute_result"
    }
   ],
   "source": [
    "train.head()"
   ]
  },
  {
   "cell_type": "code",
   "execution_count": 265,
   "metadata": {},
   "outputs": [],
   "source": [
    "test[\"Embarked_C\"] = test[\"Embarked\"] == \"C\"\n",
    "test[\"Embarked_S\"] = test[\"Embarked\"] == \"S\"\n",
    "test[\"Embarked_Q\"] = test[\"Embarked\"] == \"Q\""
   ]
  },
  {
   "cell_type": "code",
   "execution_count": 266,
   "metadata": {},
   "outputs": [
    {
     "data": {
      "text/html": [
       "<div>\n",
       "<style scoped>\n",
       "    .dataframe tbody tr th:only-of-type {\n",
       "        vertical-align: middle;\n",
       "    }\n",
       "\n",
       "    .dataframe tbody tr th {\n",
       "        vertical-align: top;\n",
       "    }\n",
       "\n",
       "    .dataframe thead th {\n",
       "        text-align: right;\n",
       "    }\n",
       "</style>\n",
       "<table border=\"1\" class=\"dataframe\">\n",
       "  <thead>\n",
       "    <tr style=\"text-align: right;\">\n",
       "      <th></th>\n",
       "      <th>Embarked</th>\n",
       "      <th>Embarked_C</th>\n",
       "      <th>Embarked_S</th>\n",
       "      <th>Embarked_Q</th>\n",
       "    </tr>\n",
       "  </thead>\n",
       "  <tbody>\n",
       "    <tr>\n",
       "      <td>0</td>\n",
       "      <td>Q</td>\n",
       "      <td>False</td>\n",
       "      <td>False</td>\n",
       "      <td>True</td>\n",
       "    </tr>\n",
       "    <tr>\n",
       "      <td>1</td>\n",
       "      <td>S</td>\n",
       "      <td>False</td>\n",
       "      <td>True</td>\n",
       "      <td>False</td>\n",
       "    </tr>\n",
       "    <tr>\n",
       "      <td>2</td>\n",
       "      <td>Q</td>\n",
       "      <td>False</td>\n",
       "      <td>False</td>\n",
       "      <td>True</td>\n",
       "    </tr>\n",
       "    <tr>\n",
       "      <td>3</td>\n",
       "      <td>S</td>\n",
       "      <td>False</td>\n",
       "      <td>True</td>\n",
       "      <td>False</td>\n",
       "    </tr>\n",
       "    <tr>\n",
       "      <td>4</td>\n",
       "      <td>S</td>\n",
       "      <td>False</td>\n",
       "      <td>True</td>\n",
       "      <td>False</td>\n",
       "    </tr>\n",
       "  </tbody>\n",
       "</table>\n",
       "</div>"
      ],
      "text/plain": [
       "  Embarked  Embarked_C  Embarked_S  Embarked_Q\n",
       "0        Q       False       False        True\n",
       "1        S       False        True       False\n",
       "2        Q       False       False        True\n",
       "3        S       False        True       False\n",
       "4        S       False        True       False"
      ]
     },
     "execution_count": 266,
     "metadata": {},
     "output_type": "execute_result"
    }
   ],
   "source": [
    "test[[\"Embarked\", \"Embarked_C\", \"Embarked_S\", \"Embarked_Q\"]].head()"
   ]
  },
  {
   "cell_type": "code",
   "execution_count": 267,
   "metadata": {},
   "outputs": [
    {
     "data": {
      "text/plain": [
       "<seaborn.axisgrid.FacetGrid at 0x2709668d8c8>"
      ]
     },
     "execution_count": 267,
     "metadata": {},
     "output_type": "execute_result"
    },
    {
     "data": {
      "image/png": "[encoded data removed]",
      "text/plain": [
       "<Figure size 411.875x360 with 1 Axes>"
      ]
     },
     "metadata": {
      "needs_background": "light"
     },
     "output_type": "display_data"
    }
   ],
   "source": [
    "sns.lmplot(data=train, x=\"Age\", y=\"Fare\",hue=\"Survived\", fit_reg=False)"
   ]
  },
  {
   "cell_type": "code",
   "execution_count": 244,
   "metadata": {},
   "outputs": [
    {
     "data": {
      "text/html": [
       "<div>\n",
       "<style scoped>\n",
       "    .dataframe tbody tr th:only-of-type {\n",
       "        vertical-align: middle;\n",
       "    }\n",
       "\n",
       "    .dataframe tbody tr th {\n",
       "        vertical-align: top;\n",
       "    }\n",
       "\n",
       "    .dataframe thead th {\n",
       "        text-align: right;\n",
       "    }\n",
       "</style>\n",
       "<table border=\"1\" class=\"dataframe\">\n",
       "  <thead>\n",
       "    <tr style=\"text-align: right;\">\n",
       "      <th></th>\n",
       "      <th>PassengerId</th>\n",
       "      <th>Survived</th>\n",
       "      <th>Pclass</th>\n",
       "      <th>Name</th>\n",
       "      <th>Sex</th>\n",
       "      <th>Age</th>\n",
       "      <th>SibSp</th>\n",
       "      <th>Parch</th>\n",
       "      <th>Ticket</th>\n",
       "      <th>Fare</th>\n",
       "      <th>Cabin</th>\n",
       "      <th>Embarked</th>\n",
       "      <th>title</th>\n",
       "      <th>young&amp;women</th>\n",
       "      <th>man</th>\n",
       "      <th>Embarked_C</th>\n",
       "      <th>Embarked_S</th>\n",
       "      <th>Embarked_Q</th>\n",
       "    </tr>\n",
       "  </thead>\n",
       "  <tbody>\n",
       "    <tr>\n",
       "      <td>258</td>\n",
       "      <td>259</td>\n",
       "      <td>1</td>\n",
       "      <td>1</td>\n",
       "      <td>Ward, Miss. Anna</td>\n",
       "      <td>female</td>\n",
       "      <td>35.0</td>\n",
       "      <td>0</td>\n",
       "      <td>0</td>\n",
       "      <td>PC 17755</td>\n",
       "      <td>512.3292</td>\n",
       "      <td>NaN</td>\n",
       "      <td>C</td>\n",
       "      <td>Miss</td>\n",
       "      <td>True</td>\n",
       "      <td>False</td>\n",
       "      <td>True</td>\n",
       "      <td>False</td>\n",
       "      <td>False</td>\n",
       "    </tr>\n",
       "    <tr>\n",
       "      <td>679</td>\n",
       "      <td>680</td>\n",
       "      <td>1</td>\n",
       "      <td>1</td>\n",
       "      <td>Cardeza, Mr. Thomas Drake Martinez</td>\n",
       "      <td>male</td>\n",
       "      <td>36.0</td>\n",
       "      <td>0</td>\n",
       "      <td>1</td>\n",
       "      <td>PC 17755</td>\n",
       "      <td>512.3292</td>\n",
       "      <td>B51 B53 B55</td>\n",
       "      <td>C</td>\n",
       "      <td>Mr</td>\n",
       "      <td>False</td>\n",
       "      <td>True</td>\n",
       "      <td>True</td>\n",
       "      <td>False</td>\n",
       "      <td>False</td>\n",
       "    </tr>\n",
       "    <tr>\n",
       "      <td>737</td>\n",
       "      <td>738</td>\n",
       "      <td>1</td>\n",
       "      <td>1</td>\n",
       "      <td>Lesurer, Mr. Gustave J</td>\n",
       "      <td>male</td>\n",
       "      <td>35.0</td>\n",
       "      <td>0</td>\n",
       "      <td>0</td>\n",
       "      <td>PC 17755</td>\n",
       "      <td>512.3292</td>\n",
       "      <td>B101</td>\n",
       "      <td>C</td>\n",
       "      <td>Mr</td>\n",
       "      <td>False</td>\n",
       "      <td>True</td>\n",
       "      <td>True</td>\n",
       "      <td>False</td>\n",
       "      <td>False</td>\n",
       "    </tr>\n",
       "  </tbody>\n",
       "</table>\n",
       "</div>"
      ],
      "text/plain": [
       "     PassengerId  Survived  Pclass                                Name  \\\n",
       "258          259         1       1                    Ward, Miss. Anna   \n",
       "679          680         1       1  Cardeza, Mr. Thomas Drake Martinez   \n",
       "737          738         1       1              Lesurer, Mr. Gustave J   \n",
       "\n",
       "        Sex   Age  SibSp  Parch    Ticket      Fare        Cabin Embarked  \\\n",
       "258  female  35.0      0      0  PC 17755  512.3292          NaN        C   \n",
       "679    male  36.0      0      1  PC 17755  512.3292  B51 B53 B55        C   \n",
       "737    male  35.0      0      0  PC 17755  512.3292         B101        C   \n",
       "\n",
       "    title  young&women    man  Embarked_C  Embarked_S  Embarked_Q  \n",
       "258  Miss         True  False        True       False       False  \n",
       "679    Mr        False   True        True       False       False  \n",
       "737    Mr        False   True        True       False       False  "
      ]
     },
     "execution_count": 244,
     "metadata": {},
     "output_type": "execute_result"
    }
   ],
   "source": [
    "low_fare = train[train[\"Fare\"] < 500]\n",
    "high_fare=train[train[\"Fare\"]>=500]\n",
    "high_fare"
   ]
  },
  {
   "cell_type": "code",
   "execution_count": 245,
   "metadata": {},
   "outputs": [
    {
     "data": {
      "text/plain": [
       "<seaborn.axisgrid.FacetGrid at 0x2709653d748>"
      ]
     },
     "execution_count": 245,
     "metadata": {},
     "output_type": "execute_result"
    },
    {
     "data": {
      "image/png": "[encoded data removed]",
      "text/plain": [
       "<Figure size 411.875x360 with 1 Axes>"
      ]
     },
     "metadata": {
      "needs_background": "light"
     },
     "output_type": "display_data"
    }
   ],
   "source": [
    "sns.lmplot(data=low_fare, x=\"Age\", y=\"Fare\", hue=\"Survived\", fit_reg=False)"
   ]
  },
  {
   "cell_type": "code",
   "execution_count": 246,
   "metadata": {},
   "outputs": [],
   "source": [
    "test.loc[test[\"Sex\"] == \"male\", \"Sex_encode\"] = 1\n",
    "test.loc[test[\"Sex\"] == \"female\", \"Sex_encode\"] = 0"
   ]
  },
  {
   "cell_type": "code",
   "execution_count": 247,
   "metadata": {},
   "outputs": [],
   "source": [
    "train.loc[train[\"Sex\"] == \"male\", \"Sex_encode\"] =1\n",
    "train.loc[train[\"Sex\"] == \"female\", \"Sex_encode\"] = 0"
   ]
  },
  {
   "cell_type": "code",
   "execution_count": 248,
   "metadata": {},
   "outputs": [
    {
     "data": {
      "text/html": [
       "<div>\n",
       "<style scoped>\n",
       "    .dataframe tbody tr th:only-of-type {\n",
       "        vertical-align: middle;\n",
       "    }\n",
       "\n",
       "    .dataframe tbody tr th {\n",
       "        vertical-align: top;\n",
       "    }\n",
       "\n",
       "    .dataframe thead th {\n",
       "        text-align: right;\n",
       "    }\n",
       "</style>\n",
       "<table border=\"1\" class=\"dataframe\">\n",
       "  <thead>\n",
       "    <tr style=\"text-align: right;\">\n",
       "      <th></th>\n",
       "      <th>Sex</th>\n",
       "      <th>Sex_encode</th>\n",
       "    </tr>\n",
       "  </thead>\n",
       "  <tbody>\n",
       "    <tr>\n",
       "      <td>0</td>\n",
       "      <td>male</td>\n",
       "      <td>1.0</td>\n",
       "    </tr>\n",
       "    <tr>\n",
       "      <td>1</td>\n",
       "      <td>female</td>\n",
       "      <td>0.0</td>\n",
       "    </tr>\n",
       "    <tr>\n",
       "      <td>2</td>\n",
       "      <td>female</td>\n",
       "      <td>0.0</td>\n",
       "    </tr>\n",
       "    <tr>\n",
       "      <td>3</td>\n",
       "      <td>female</td>\n",
       "      <td>0.0</td>\n",
       "    </tr>\n",
       "    <tr>\n",
       "      <td>4</td>\n",
       "      <td>male</td>\n",
       "      <td>1.0</td>\n",
       "    </tr>\n",
       "  </tbody>\n",
       "</table>\n",
       "</div>"
      ],
      "text/plain": [
       "      Sex  Sex_encode\n",
       "0    male         1.0\n",
       "1  female         0.0\n",
       "2  female         0.0\n",
       "3  female         0.0\n",
       "4    male         1.0"
      ]
     },
     "execution_count": 248,
     "metadata": {},
     "output_type": "execute_result"
    }
   ],
   "source": [
    "train[[\"Sex\", \"Sex_encode\"]].head()"
   ]
  },
  {
   "cell_type": "code",
   "execution_count": 249,
   "metadata": {},
   "outputs": [
    {
     "data": {
      "text/html": [
       "<div>\n",
       "<style scoped>\n",
       "    .dataframe tbody tr th:only-of-type {\n",
       "        vertical-align: middle;\n",
       "    }\n",
       "\n",
       "    .dataframe tbody tr th {\n",
       "        vertical-align: top;\n",
       "    }\n",
       "\n",
       "    .dataframe thead th {\n",
       "        text-align: right;\n",
       "    }\n",
       "</style>\n",
       "<table border=\"1\" class=\"dataframe\">\n",
       "  <thead>\n",
       "    <tr style=\"text-align: right;\">\n",
       "      <th></th>\n",
       "      <th>Sex</th>\n",
       "      <th>Sex_encode</th>\n",
       "    </tr>\n",
       "  </thead>\n",
       "  <tbody>\n",
       "    <tr>\n",
       "      <td>0</td>\n",
       "      <td>male</td>\n",
       "      <td>1.0</td>\n",
       "    </tr>\n",
       "    <tr>\n",
       "      <td>1</td>\n",
       "      <td>female</td>\n",
       "      <td>0.0</td>\n",
       "    </tr>\n",
       "    <tr>\n",
       "      <td>2</td>\n",
       "      <td>male</td>\n",
       "      <td>1.0</td>\n",
       "    </tr>\n",
       "    <tr>\n",
       "      <td>3</td>\n",
       "      <td>male</td>\n",
       "      <td>1.0</td>\n",
       "    </tr>\n",
       "    <tr>\n",
       "      <td>4</td>\n",
       "      <td>female</td>\n",
       "      <td>0.0</td>\n",
       "    </tr>\n",
       "  </tbody>\n",
       "</table>\n",
       "</div>"
      ],
      "text/plain": [
       "      Sex  Sex_encode\n",
       "0    male         1.0\n",
       "1  female         0.0\n",
       "2    male         1.0\n",
       "3    male         1.0\n",
       "4  female         0.0"
      ]
     },
     "execution_count": 249,
     "metadata": {},
     "output_type": "execute_result"
    }
   ],
   "source": [
    "test[[\"Sex\", \"Sex_encode\"]].head()"
   ]
  },
  {
   "cell_type": "code",
   "execution_count": 325,
   "metadata": {},
   "outputs": [],
   "source": [
    "train[\"Fare_fillin\"] = train[\"Fare\"]\n",
    "test[\"Fare_fillin\"] = test[\"Fare\"]"
   ]
  },
  {
   "cell_type": "code",
   "execution_count": 501,
   "metadata": {},
   "outputs": [
    {
     "name": "stdout",
     "output_type": "stream",
     "text": [
      "8.05 7.8958\n"
     ]
    }
   ],
   "source": [
    "third_fare_train=train.loc[train[\"Pclass\"]==3, \"Fare\"]\n",
    "third_fare_test=test.loc[test[\"Pclass\"]==3, \"Fare\"]\n",
    "print(third_fare_train.median(),third_fare_test.median())"
   ]
  },
  {
   "cell_type": "code",
   "execution_count": 502,
   "metadata": {},
   "outputs": [
    {
     "name": "stdout",
     "output_type": "stream",
     "text": [
      "14.25 15.75\n"
     ]
    }
   ],
   "source": [
    "second_fare_train=train.loc[train[\"Pclass\"]==2, \"Fare\"]\n",
    "second_fare_test=test.loc[test[\"Pclass\"]==2, \"Fare\"]\n",
    "print(second_fare_train.median(),second_fare_test.median())"
   ]
  },
  {
   "cell_type": "code",
   "execution_count": 503,
   "metadata": {},
   "outputs": [
    {
     "name": "stdout",
     "output_type": "stream",
     "text": [
      "57.9792 60.0\n"
     ]
    }
   ],
   "source": [
    "first_fare_train=train.loc[(train[\"Pclass\"]==1) & (train[\"Fare\"]<300), \"Fare\"]\n",
    "first_fare_test=test.loc[(test[\"Pclass\"]==1)&(test[\"Fare\"]<300),  \"Fare\"]\n",
    "print(first_fare_train.median(),first_fare_test.median())"
   ]
  },
  {
   "cell_type": "code",
   "execution_count": 504,
   "metadata": {},
   "outputs": [],
   "source": [
    "test.loc[((test[\"Fare\"]==0.0 )| (test[\"Fare\"].isnull()))& (test[\"Pclass\"]==1), \"Fare_fillin\"] = first_fare_test.median()\n",
    "train.loc[(train[\"Fare\"]==0.0 )| (train[\"Pclass\"]==1), \"Fare_fillin\"] = first_fare_train.median()\n",
    "\n",
    "test.loc[((test[\"Fare\"]==0.0) |(test[\"Fare\"].isnull()))& (test[\"Pclass\"]==2), \"Fare_fillin\"] = second_fare_test.median()\n",
    "train.loc[(train[\"Fare\"]==0.0)| (train[\"Pclass\"]==2), \"Fare_fillin\"] = second_fare_train.median()\n",
    "\n",
    "test.loc[((test[\"Fare\"]==0.0) |(test[\"Fare\"].isnull()))&( test[\"Pclass\"]==3), \"Fare_fillin\"] = third_fare_test.median() \n",
    "train.loc[(train[\"Fare\"]==0.0) | (train[\"Pclass\"]==3), \"Fare_fillin\"] = third_fare_train.median()"
   ]
  },
  {
   "cell_type": "code",
   "execution_count": 343,
   "metadata": {},
   "outputs": [
    {
     "data": {
      "text/plain": [
       "PassengerId      0\n",
       "Survived         0\n",
       "Pclass           0\n",
       "Name             0\n",
       "Sex              0\n",
       "Age            177\n",
       "SibSp            0\n",
       "Parch            0\n",
       "Ticket           0\n",
       "Fare             0\n",
       "Cabin          687\n",
       "Embarked         0\n",
       "title            0\n",
       "young&women      0\n",
       "man              0\n",
       "Embarked_C       0\n",
       "Embarked_S       0\n",
       "Embarked_Q       0\n",
       "Sex_encode       0\n",
       "Fare_fillin      0\n",
       "fares            0\n",
       "FamilySize       0\n",
       "FamilyType       0\n",
       "Single           0\n",
       "Nuclear          0\n",
       "Big              0\n",
       "dtype: int64"
      ]
     },
     "execution_count": 343,
     "metadata": {},
     "output_type": "execute_result"
    }
   ],
   "source": [
    "train.isnull().sum()"
   ]
  },
  {
   "cell_type": "code",
   "execution_count": 187,
   "metadata": {},
   "outputs": [
    {
     "data": {
      "text/plain": [
       "<matplotlib.axes._subplots.AxesSubplot at 0x27095236708>"
      ]
     },
     "execution_count": 187,
     "metadata": {},
     "output_type": "execute_result"
    },
    {
     "data": {
      "image/png": "[encoded data removed]",
      "text/plain": [
       "<Figure size 432x288 with 1 Axes>"
      ]
     },
     "metadata": {
      "needs_background": "light"
     },
     "output_type": "display_data"
    }
   ],
   "source": [
    "sns.kdeplot(train[\"Survived\"], train[\"Sex_encode\"])"
   ]
  },
  {
   "cell_type": "code",
   "execution_count": 509,
   "metadata": {},
   "outputs": [
    {
     "data": {
      "text/html": [
       "<div>\n",
       "<style scoped>\n",
       "    .dataframe tbody tr th:only-of-type {\n",
       "        vertical-align: middle;\n",
       "    }\n",
       "\n",
       "    .dataframe tbody tr th {\n",
       "        vertical-align: top;\n",
       "    }\n",
       "\n",
       "    .dataframe thead th {\n",
       "        text-align: right;\n",
       "    }\n",
       "</style>\n",
       "<table border=\"1\" class=\"dataframe\">\n",
       "  <thead>\n",
       "    <tr style=\"text-align: right;\">\n",
       "      <th></th>\n",
       "      <th>Survived</th>\n",
       "    </tr>\n",
       "    <tr>\n",
       "      <th>fares</th>\n",
       "      <th></th>\n",
       "    </tr>\n",
       "  </thead>\n",
       "  <tbody>\n",
       "    <tr>\n",
       "      <td>0.0</td>\n",
       "      <td>0.237052</td>\n",
       "    </tr>\n",
       "    <tr>\n",
       "      <td>1.0</td>\n",
       "      <td>0.488764</td>\n",
       "    </tr>\n",
       "    <tr>\n",
       "      <td>2.0</td>\n",
       "      <td>0.644550</td>\n",
       "    </tr>\n",
       "  </tbody>\n",
       "</table>\n",
       "</div>"
      ],
      "text/plain": [
       "       Survived\n",
       "fares          \n",
       "0.0    0.237052\n",
       "1.0    0.488764\n",
       "2.0    0.644550"
      ]
     },
     "execution_count": 509,
     "metadata": {},
     "output_type": "execute_result"
    }
   ],
   "source": [
    "train.loc[train[\"Fare_fillin\"]<10, \"fares\"]=0\n",
    "train.loc[(train[\"Fare_fillin\"]>=10) & (train[\"Fare_fillin\"]<=35), \"fares\"]=1\n",
    "train.loc[(train[\"Fare_fillin\"]>35), \"fares\"]=2\n",
    "\n",
    "test.loc[test[\"Fare_fillin\"]<10, \"fares\"]=0\n",
    "test.loc[(test[\"Fare_fillin\"]>=10) & (test[\"Fare_fillin\"]<=35), \"fares\"]=1\n",
    "test.loc[(test[\"Fare_fillin\"]>35), \"fares\"]=2\n",
    "pd.pivot_table(train, index=\"fares\", values=\"Survived\")"
   ]
  },
  {
   "cell_type": "code",
   "execution_count": 510,
   "metadata": {},
   "outputs": [
    {
     "data": {
      "text/html": [
       "<div>\n",
       "<style scoped>\n",
       "    .dataframe tbody tr th:only-of-type {\n",
       "        vertical-align: middle;\n",
       "    }\n",
       "\n",
       "    .dataframe tbody tr th {\n",
       "        vertical-align: top;\n",
       "    }\n",
       "\n",
       "    .dataframe thead th {\n",
       "        text-align: right;\n",
       "    }\n",
       "</style>\n",
       "<table border=\"1\" class=\"dataframe\">\n",
       "  <thead>\n",
       "    <tr style=\"text-align: right;\">\n",
       "      <th></th>\n",
       "      <th>PassengerId</th>\n",
       "      <th>Survived</th>\n",
       "      <th>Pclass</th>\n",
       "      <th>Age</th>\n",
       "      <th>SibSp</th>\n",
       "      <th>Parch</th>\n",
       "      <th>Fare</th>\n",
       "      <th>young&amp;women</th>\n",
       "      <th>man</th>\n",
       "      <th>Embarked_C</th>\n",
       "      <th>Embarked_S</th>\n",
       "      <th>Embarked_Q</th>\n",
       "      <th>Sex_encode</th>\n",
       "      <th>Fare_fillin</th>\n",
       "      <th>fares</th>\n",
       "      <th>FamilySize</th>\n",
       "      <th>Single</th>\n",
       "      <th>Nuclear</th>\n",
       "      <th>Big</th>\n",
       "      <th>mysex</th>\n",
       "    </tr>\n",
       "  </thead>\n",
       "  <tbody>\n",
       "    <tr>\n",
       "      <td>PassengerId</td>\n",
       "      <td>1.000000</td>\n",
       "      <td>-0.005007</td>\n",
       "      <td>-0.035144</td>\n",
       "      <td>0.036847</td>\n",
       "      <td>-0.057527</td>\n",
       "      <td>-0.001652</td>\n",
       "      <td>0.012658</td>\n",
       "      <td>-0.049744</td>\n",
       "      <td>0.041419</td>\n",
       "      <td>-0.001205</td>\n",
       "      <td>0.022204</td>\n",
       "      <td>-0.033606</td>\n",
       "      <td>0.042939</td>\n",
       "      <td>0.023265</td>\n",
       "      <td>0.021634</td>\n",
       "      <td>-0.040143</td>\n",
       "      <td>0.057462</td>\n",
       "      <td>-0.028976</td>\n",
       "      <td>-0.057055</td>\n",
       "      <td>-0.041419</td>\n",
       "    </tr>\n",
       "    <tr>\n",
       "      <td>Survived</td>\n",
       "      <td>-0.005007</td>\n",
       "      <td>1.000000</td>\n",
       "      <td>-0.338481</td>\n",
       "      <td>-0.077221</td>\n",
       "      <td>-0.035322</td>\n",
       "      <td>0.081629</td>\n",
       "      <td>0.257307</td>\n",
       "      <td>0.563511</td>\n",
       "      <td>-0.562671</td>\n",
       "      <td>0.168240</td>\n",
       "      <td>-0.149683</td>\n",
       "      <td>0.003650</td>\n",
       "      <td>-0.543351</td>\n",
       "      <td>0.319530</td>\n",
       "      <td>0.356638</td>\n",
       "      <td>0.016639</td>\n",
       "      <td>-0.203367</td>\n",
       "      <td>0.279855</td>\n",
       "      <td>-0.125147</td>\n",
       "      <td>0.562671</td>\n",
       "    </tr>\n",
       "    <tr>\n",
       "      <td>Pclass</td>\n",
       "      <td>-0.035144</td>\n",
       "      <td>-0.338481</td>\n",
       "      <td>1.000000</td>\n",
       "      <td>-0.369226</td>\n",
       "      <td>0.083081</td>\n",
       "      <td>0.018443</td>\n",
       "      <td>-0.549500</td>\n",
       "      <td>-0.109791</td>\n",
       "      <td>0.127425</td>\n",
       "      <td>-0.243292</td>\n",
       "      <td>0.074053</td>\n",
       "      <td>0.221009</td>\n",
       "      <td>0.131900</td>\n",
       "      <td>-0.917824</td>\n",
       "      <td>-0.979271</td>\n",
       "      <td>0.065997</td>\n",
       "      <td>0.135207</td>\n",
       "      <td>-0.223551</td>\n",
       "      <td>0.152366</td>\n",
       "      <td>-0.127425</td>\n",
       "    </tr>\n",
       "    <tr>\n",
       "      <td>Age</td>\n",
       "      <td>0.036847</td>\n",
       "      <td>-0.077221</td>\n",
       "      <td>-0.369226</td>\n",
       "      <td>1.000000</td>\n",
       "      <td>-0.308247</td>\n",
       "      <td>-0.189119</td>\n",
       "      <td>0.096067</td>\n",
       "      <td>-0.256904</td>\n",
       "      <td>0.235802</td>\n",
       "      <td>0.036261</td>\n",
       "      <td>-0.023233</td>\n",
       "      <td>-0.022405</td>\n",
       "      <td>0.093254</td>\n",
       "      <td>0.357485</td>\n",
       "      <td>0.363850</td>\n",
       "      <td>-0.301914</td>\n",
       "      <td>0.198270</td>\n",
       "      <td>-0.083059</td>\n",
       "      <td>-0.226521</td>\n",
       "      <td>-0.235802</td>\n",
       "    </tr>\n",
       "    <tr>\n",
       "      <td>SibSp</td>\n",
       "      <td>-0.057527</td>\n",
       "      <td>-0.035322</td>\n",
       "      <td>0.083081</td>\n",
       "      <td>-0.308247</td>\n",
       "      <td>1.000000</td>\n",
       "      <td>0.414838</td>\n",
       "      <td>0.159651</td>\n",
       "      <td>0.260895</td>\n",
       "      <td>-0.259057</td>\n",
       "      <td>-0.059528</td>\n",
       "      <td>0.068734</td>\n",
       "      <td>-0.026354</td>\n",
       "      <td>-0.114631</td>\n",
       "      <td>-0.055891</td>\n",
       "      <td>-0.073128</td>\n",
       "      <td>0.890712</td>\n",
       "      <td>-0.584471</td>\n",
       "      <td>0.213225</td>\n",
       "      <td>0.730691</td>\n",
       "      <td>0.259057</td>\n",
       "    </tr>\n",
       "    <tr>\n",
       "      <td>Parch</td>\n",
       "      <td>-0.001652</td>\n",
       "      <td>0.081629</td>\n",
       "      <td>0.018443</td>\n",
       "      <td>-0.189119</td>\n",
       "      <td>0.414838</td>\n",
       "      <td>1.000000</td>\n",
       "      <td>0.216225</td>\n",
       "      <td>0.345308</td>\n",
       "      <td>-0.341989</td>\n",
       "      <td>-0.011069</td>\n",
       "      <td>0.060814</td>\n",
       "      <td>-0.081228</td>\n",
       "      <td>-0.245489</td>\n",
       "      <td>-0.010963</td>\n",
       "      <td>-0.008291</td>\n",
       "      <td>0.783111</td>\n",
       "      <td>-0.583398</td>\n",
       "      <td>0.265863</td>\n",
       "      <td>0.631523</td>\n",
       "      <td>0.341989</td>\n",
       "    </tr>\n",
       "    <tr>\n",
       "      <td>Fare</td>\n",
       "      <td>0.012658</td>\n",
       "      <td>0.257307</td>\n",
       "      <td>-0.549500</td>\n",
       "      <td>0.096067</td>\n",
       "      <td>0.159651</td>\n",
       "      <td>0.216225</td>\n",
       "      <td>1.000000</td>\n",
       "      <td>0.187869</td>\n",
       "      <td>-0.188564</td>\n",
       "      <td>0.269335</td>\n",
       "      <td>-0.162184</td>\n",
       "      <td>-0.117216</td>\n",
       "      <td>-0.182333</td>\n",
       "      <td>0.608117</td>\n",
       "      <td>0.565329</td>\n",
       "      <td>0.217138</td>\n",
       "      <td>-0.271832</td>\n",
       "      <td>0.205527</td>\n",
       "      <td>0.143636</td>\n",
       "      <td>0.188564</td>\n",
       "    </tr>\n",
       "    <tr>\n",
       "      <td>young&amp;women</td>\n",
       "      <td>-0.049744</td>\n",
       "      <td>0.563511</td>\n",
       "      <td>-0.109791</td>\n",
       "      <td>-0.256904</td>\n",
       "      <td>0.260895</td>\n",
       "      <td>0.345308</td>\n",
       "      <td>0.187869</td>\n",
       "      <td>1.000000</td>\n",
       "      <td>-0.988440</td>\n",
       "      <td>0.070876</td>\n",
       "      <td>-0.112746</td>\n",
       "      <td>0.080495</td>\n",
       "      <td>-0.895928</td>\n",
       "      <td>0.097330</td>\n",
       "      <td>0.127915</td>\n",
       "      <td>0.350823</td>\n",
       "      <td>-0.406498</td>\n",
       "      <td>0.297336</td>\n",
       "      <td>0.233257</td>\n",
       "      <td>0.988440</td>\n",
       "    </tr>\n",
       "    <tr>\n",
       "      <td>man</td>\n",
       "      <td>0.041419</td>\n",
       "      <td>-0.562671</td>\n",
       "      <td>0.127425</td>\n",
       "      <td>0.235802</td>\n",
       "      <td>-0.259057</td>\n",
       "      <td>-0.341989</td>\n",
       "      <td>-0.188564</td>\n",
       "      <td>-0.988440</td>\n",
       "      <td>1.000000</td>\n",
       "      <td>-0.071057</td>\n",
       "      <td>0.110586</td>\n",
       "      <td>-0.076811</td>\n",
       "      <td>0.885571</td>\n",
       "      <td>-0.111956</td>\n",
       "      <td>-0.140334</td>\n",
       "      <td>-0.347908</td>\n",
       "      <td>0.405681</td>\n",
       "      <td>-0.298450</td>\n",
       "      <td>-0.229632</td>\n",
       "      <td>-1.000000</td>\n",
       "    </tr>\n",
       "    <tr>\n",
       "      <td>Embarked_C</td>\n",
       "      <td>-0.001205</td>\n",
       "      <td>0.168240</td>\n",
       "      <td>-0.243292</td>\n",
       "      <td>0.036261</td>\n",
       "      <td>-0.059528</td>\n",
       "      <td>-0.011069</td>\n",
       "      <td>0.269335</td>\n",
       "      <td>0.070876</td>\n",
       "      <td>-0.071057</td>\n",
       "      <td>1.000000</td>\n",
       "      <td>-0.782742</td>\n",
       "      <td>-0.148258</td>\n",
       "      <td>-0.082853</td>\n",
       "      <td>0.299075</td>\n",
       "      <td>0.254504</td>\n",
       "      <td>-0.046215</td>\n",
       "      <td>-0.095298</td>\n",
       "      <td>0.158586</td>\n",
       "      <td>-0.109274</td>\n",
       "      <td>0.071057</td>\n",
       "    </tr>\n",
       "    <tr>\n",
       "      <td>Embarked_S</td>\n",
       "      <td>0.022204</td>\n",
       "      <td>-0.149683</td>\n",
       "      <td>0.074053</td>\n",
       "      <td>-0.023233</td>\n",
       "      <td>0.068734</td>\n",
       "      <td>0.060814</td>\n",
       "      <td>-0.162184</td>\n",
       "      <td>-0.112746</td>\n",
       "      <td>0.110586</td>\n",
       "      <td>-0.782742</td>\n",
       "      <td>1.000000</td>\n",
       "      <td>-0.499421</td>\n",
       "      <td>0.119224</td>\n",
       "      <td>-0.154113</td>\n",
       "      <td>-0.087581</td>\n",
       "      <td>0.077359</td>\n",
       "      <td>0.029074</td>\n",
       "      <td>-0.084120</td>\n",
       "      <td>0.099265</td>\n",
       "      <td>-0.110586</td>\n",
       "    </tr>\n",
       "    <tr>\n",
       "      <td>Embarked_Q</td>\n",
       "      <td>-0.033606</td>\n",
       "      <td>0.003650</td>\n",
       "      <td>0.221009</td>\n",
       "      <td>-0.022405</td>\n",
       "      <td>-0.026354</td>\n",
       "      <td>-0.081228</td>\n",
       "      <td>-0.117216</td>\n",
       "      <td>0.080495</td>\n",
       "      <td>-0.076811</td>\n",
       "      <td>-0.148258</td>\n",
       "      <td>-0.499421</td>\n",
       "      <td>1.000000</td>\n",
       "      <td>-0.074115</td>\n",
       "      <td>-0.171442</td>\n",
       "      <td>-0.215120</td>\n",
       "      <td>-0.058592</td>\n",
       "      <td>0.086464</td>\n",
       "      <td>-0.087093</td>\n",
       "      <td>-0.005620</td>\n",
       "      <td>0.076811</td>\n",
       "    </tr>\n",
       "    <tr>\n",
       "      <td>Sex_encode</td>\n",
       "      <td>0.042939</td>\n",
       "      <td>-0.543351</td>\n",
       "      <td>0.131900</td>\n",
       "      <td>0.093254</td>\n",
       "      <td>-0.114631</td>\n",
       "      <td>-0.245489</td>\n",
       "      <td>-0.182333</td>\n",
       "      <td>-0.895928</td>\n",
       "      <td>0.885571</td>\n",
       "      <td>-0.082853</td>\n",
       "      <td>0.119224</td>\n",
       "      <td>-0.074115</td>\n",
       "      <td>1.000000</td>\n",
       "      <td>-0.120790</td>\n",
       "      <td>-0.148251</td>\n",
       "      <td>-0.200988</td>\n",
       "      <td>0.303646</td>\n",
       "      <td>-0.260747</td>\n",
       "      <td>-0.102954</td>\n",
       "      <td>-0.885571</td>\n",
       "    </tr>\n",
       "    <tr>\n",
       "      <td>Fare_fillin</td>\n",
       "      <td>0.023265</td>\n",
       "      <td>0.319530</td>\n",
       "      <td>-0.917824</td>\n",
       "      <td>0.357485</td>\n",
       "      <td>-0.055891</td>\n",
       "      <td>-0.010963</td>\n",
       "      <td>0.608117</td>\n",
       "      <td>0.097330</td>\n",
       "      <td>-0.111956</td>\n",
       "      <td>0.299075</td>\n",
       "      <td>-0.154113</td>\n",
       "      <td>-0.171442</td>\n",
       "      <td>-0.120790</td>\n",
       "      <td>1.000000</td>\n",
       "      <td>0.934535</td>\n",
       "      <td>-0.043677</td>\n",
       "      <td>-0.134716</td>\n",
       "      <td>0.198030</td>\n",
       "      <td>-0.106230</td>\n",
       "      <td>0.111956</td>\n",
       "    </tr>\n",
       "    <tr>\n",
       "      <td>fares</td>\n",
       "      <td>0.021634</td>\n",
       "      <td>0.356638</td>\n",
       "      <td>-0.979271</td>\n",
       "      <td>0.363850</td>\n",
       "      <td>-0.073128</td>\n",
       "      <td>-0.008291</td>\n",
       "      <td>0.565329</td>\n",
       "      <td>0.127915</td>\n",
       "      <td>-0.140334</td>\n",
       "      <td>0.254504</td>\n",
       "      <td>-0.087581</td>\n",
       "      <td>-0.215120</td>\n",
       "      <td>-0.148251</td>\n",
       "      <td>0.934535</td>\n",
       "      <td>1.000000</td>\n",
       "      <td>-0.054123</td>\n",
       "      <td>-0.153169</td>\n",
       "      <td>0.239358</td>\n",
       "      <td>-0.146981</td>\n",
       "      <td>0.140334</td>\n",
       "    </tr>\n",
       "    <tr>\n",
       "      <td>FamilySize</td>\n",
       "      <td>-0.040143</td>\n",
       "      <td>0.016639</td>\n",
       "      <td>0.065997</td>\n",
       "      <td>-0.301914</td>\n",
       "      <td>0.890712</td>\n",
       "      <td>0.783111</td>\n",
       "      <td>0.217138</td>\n",
       "      <td>0.350823</td>\n",
       "      <td>-0.347908</td>\n",
       "      <td>-0.046215</td>\n",
       "      <td>0.077359</td>\n",
       "      <td>-0.058592</td>\n",
       "      <td>-0.200988</td>\n",
       "      <td>-0.043677</td>\n",
       "      <td>-0.054123</td>\n",
       "      <td>1.000000</td>\n",
       "      <td>-0.690922</td>\n",
       "      <td>0.278553</td>\n",
       "      <td>0.814901</td>\n",
       "      <td>0.347908</td>\n",
       "    </tr>\n",
       "    <tr>\n",
       "      <td>Single</td>\n",
       "      <td>0.057462</td>\n",
       "      <td>-0.203367</td>\n",
       "      <td>0.135207</td>\n",
       "      <td>0.198270</td>\n",
       "      <td>-0.584471</td>\n",
       "      <td>-0.583398</td>\n",
       "      <td>-0.271832</td>\n",
       "      <td>-0.406498</td>\n",
       "      <td>0.405681</td>\n",
       "      <td>-0.095298</td>\n",
       "      <td>0.029074</td>\n",
       "      <td>0.086464</td>\n",
       "      <td>0.303646</td>\n",
       "      <td>-0.134716</td>\n",
       "      <td>-0.153169</td>\n",
       "      <td>-0.690922</td>\n",
       "      <td>1.000000</td>\n",
       "      <td>-0.859931</td>\n",
       "      <td>-0.336825</td>\n",
       "      <td>-0.405681</td>\n",
       "    </tr>\n",
       "    <tr>\n",
       "      <td>Nuclear</td>\n",
       "      <td>-0.028976</td>\n",
       "      <td>0.279855</td>\n",
       "      <td>-0.223551</td>\n",
       "      <td>-0.083059</td>\n",
       "      <td>0.213225</td>\n",
       "      <td>0.265863</td>\n",
       "      <td>0.205527</td>\n",
       "      <td>0.297336</td>\n",
       "      <td>-0.298450</td>\n",
       "      <td>0.158586</td>\n",
       "      <td>-0.084120</td>\n",
       "      <td>-0.087093</td>\n",
       "      <td>-0.260747</td>\n",
       "      <td>0.198030</td>\n",
       "      <td>0.239358</td>\n",
       "      <td>0.278553</td>\n",
       "      <td>-0.859931</td>\n",
       "      <td>1.000000</td>\n",
       "      <td>-0.190940</td>\n",
       "      <td>0.298450</td>\n",
       "    </tr>\n",
       "    <tr>\n",
       "      <td>Big</td>\n",
       "      <td>-0.057055</td>\n",
       "      <td>-0.125147</td>\n",
       "      <td>0.152366</td>\n",
       "      <td>-0.226521</td>\n",
       "      <td>0.730691</td>\n",
       "      <td>0.631523</td>\n",
       "      <td>0.143636</td>\n",
       "      <td>0.233257</td>\n",
       "      <td>-0.229632</td>\n",
       "      <td>-0.109274</td>\n",
       "      <td>0.099265</td>\n",
       "      <td>-0.005620</td>\n",
       "      <td>-0.102954</td>\n",
       "      <td>-0.106230</td>\n",
       "      <td>-0.146981</td>\n",
       "      <td>0.814901</td>\n",
       "      <td>-0.336825</td>\n",
       "      <td>-0.190940</td>\n",
       "      <td>1.000000</td>\n",
       "      <td>0.229632</td>\n",
       "    </tr>\n",
       "    <tr>\n",
       "      <td>mysex</td>\n",
       "      <td>-0.041419</td>\n",
       "      <td>0.562671</td>\n",
       "      <td>-0.127425</td>\n",
       "      <td>-0.235802</td>\n",
       "      <td>0.259057</td>\n",
       "      <td>0.341989</td>\n",
       "      <td>0.188564</td>\n",
       "      <td>0.988440</td>\n",
       "      <td>-1.000000</td>\n",
       "      <td>0.071057</td>\n",
       "      <td>-0.110586</td>\n",
       "      <td>0.076811</td>\n",
       "      <td>-0.885571</td>\n",
       "      <td>0.111956</td>\n",
       "      <td>0.140334</td>\n",
       "      <td>0.347908</td>\n",
       "      <td>-0.405681</td>\n",
       "      <td>0.298450</td>\n",
       "      <td>0.229632</td>\n",
       "      <td>1.000000</td>\n",
       "    </tr>\n",
       "  </tbody>\n",
       "</table>\n",
       "</div>"
      ],
      "text/plain": [
       "             PassengerId  Survived    Pclass       Age     SibSp     Parch  \\\n",
       "PassengerId     1.000000 -0.005007 -0.035144  0.036847 -0.057527 -0.001652   \n",
       "Survived       -0.005007  1.000000 -0.338481 -0.077221 -0.035322  0.081629   \n",
       "Pclass         -0.035144 -0.338481  1.000000 -0.369226  0.083081  0.018443   \n",
       "Age             0.036847 -0.077221 -0.369226  1.000000 -0.308247 -0.189119   \n",
       "SibSp          -0.057527 -0.035322  0.083081 -0.308247  1.000000  0.414838   \n",
       "Parch          -0.001652  0.081629  0.018443 -0.189119  0.414838  1.000000   \n",
       "Fare            0.012658  0.257307 -0.549500  0.096067  0.159651  0.216225   \n",
       "young&women    -0.049744  0.563511 -0.109791 -0.256904  0.260895  0.345308   \n",
       "man             0.041419 -0.562671  0.127425  0.235802 -0.259057 -0.341989   \n",
       "Embarked_C     -0.001205  0.168240 -0.243292  0.036261 -0.059528 -0.011069   \n",
       "Embarked_S      0.022204 -0.149683  0.074053 -0.023233  0.068734  0.060814   \n",
       "Embarked_Q     -0.033606  0.003650  0.221009 -0.022405 -0.026354 -0.081228   \n",
       "Sex_encode      0.042939 -0.543351  0.131900  0.093254 -0.114631 -0.245489   \n",
       "Fare_fillin     0.023265  0.319530 -0.917824  0.357485 -0.055891 -0.010963   \n",
       "fares           0.021634  0.356638 -0.979271  0.363850 -0.073128 -0.008291   \n",
       "FamilySize     -0.040143  0.016639  0.065997 -0.301914  0.890712  0.783111   \n",
       "Single          0.057462 -0.203367  0.135207  0.198270 -0.584471 -0.583398   \n",
       "Nuclear        -0.028976  0.279855 -0.223551 -0.083059  0.213225  0.265863   \n",
       "Big            -0.057055 -0.125147  0.152366 -0.226521  0.730691  0.631523   \n",
       "mysex          -0.041419  0.562671 -0.127425 -0.235802  0.259057  0.341989   \n",
       "\n",
       "                 Fare  young&women       man  Embarked_C  Embarked_S  \\\n",
       "PassengerId  0.012658    -0.049744  0.041419   -0.001205    0.022204   \n",
       "Survived     0.257307     0.563511 -0.562671    0.168240   -0.149683   \n",
       "Pclass      -0.549500    -0.109791  0.127425   -0.243292    0.074053   \n",
       "Age          0.096067    -0.256904  0.235802    0.036261   -0.023233   \n",
       "SibSp        0.159651     0.260895 -0.259057   -0.059528    0.068734   \n",
       "Parch        0.216225     0.345308 -0.341989   -0.011069    0.060814   \n",
       "Fare         1.000000     0.187869 -0.188564    0.269335   -0.162184   \n",
       "young&women  0.187869     1.000000 -0.988440    0.070876   -0.112746   \n",
       "man         -0.188564    -0.988440  1.000000   -0.071057    0.110586   \n",
       "Embarked_C   0.269335     0.070876 -0.071057    1.000000   -0.782742   \n",
       "Embarked_S  -0.162184    -0.112746  0.110586   -0.782742    1.000000   \n",
       "Embarked_Q  -0.117216     0.080495 -0.076811   -0.148258   -0.499421   \n",
       "Sex_encode  -0.182333    -0.895928  0.885571   -0.082853    0.119224   \n",
       "Fare_fillin  0.608117     0.097330 -0.111956    0.299075   -0.154113   \n",
       "fares        0.565329     0.127915 -0.140334    0.254504   -0.087581   \n",
       "FamilySize   0.217138     0.350823 -0.347908   -0.046215    0.077359   \n",
       "Single      -0.271832    -0.406498  0.405681   -0.095298    0.029074   \n",
       "Nuclear      0.205527     0.297336 -0.298450    0.158586   -0.084120   \n",
       "Big          0.143636     0.233257 -0.229632   -0.109274    0.099265   \n",
       "mysex        0.188564     0.988440 -1.000000    0.071057   -0.110586   \n",
       "\n",
       "             Embarked_Q  Sex_encode  Fare_fillin     fares  FamilySize  \\\n",
       "PassengerId   -0.033606    0.042939     0.023265  0.021634   -0.040143   \n",
       "Survived       0.003650   -0.543351     0.319530  0.356638    0.016639   \n",
       "Pclass         0.221009    0.131900    -0.917824 -0.979271    0.065997   \n",
       "Age           -0.022405    0.093254     0.357485  0.363850   -0.301914   \n",
       "SibSp         -0.026354   -0.114631    -0.055891 -0.073128    0.890712   \n",
       "Parch         -0.081228   -0.245489    -0.010963 -0.008291    0.783111   \n",
       "Fare          -0.117216   -0.182333     0.608117  0.565329    0.217138   \n",
       "young&women    0.080495   -0.895928     0.097330  0.127915    0.350823   \n",
       "man           -0.076811    0.885571    -0.111956 -0.140334   -0.347908   \n",
       "Embarked_C    -0.148258   -0.082853     0.299075  0.254504   -0.046215   \n",
       "Embarked_S    -0.499421    0.119224    -0.154113 -0.087581    0.077359   \n",
       "Embarked_Q     1.000000   -0.074115    -0.171442 -0.215120   -0.058592   \n",
       "Sex_encode    -0.074115    1.000000    -0.120790 -0.148251   -0.200988   \n",
       "Fare_fillin   -0.171442   -0.120790     1.000000  0.934535   -0.043677   \n",
       "fares         -0.215120   -0.148251     0.934535  1.000000   -0.054123   \n",
       "FamilySize    -0.058592   -0.200988    -0.043677 -0.054123    1.000000   \n",
       "Single         0.086464    0.303646    -0.134716 -0.153169   -0.690922   \n",
       "Nuclear       -0.087093   -0.260747     0.198030  0.239358    0.278553   \n",
       "Big           -0.005620   -0.102954    -0.106230 -0.146981    0.814901   \n",
       "mysex          0.076811   -0.885571     0.111956  0.140334    0.347908   \n",
       "\n",
       "               Single   Nuclear       Big     mysex  \n",
       "PassengerId  0.057462 -0.028976 -0.057055 -0.041419  \n",
       "Survived    -0.203367  0.279855 -0.125147  0.562671  \n",
       "Pclass       0.135207 -0.223551  0.152366 -0.127425  \n",
       "Age          0.198270 -0.083059 -0.226521 -0.235802  \n",
       "SibSp       -0.584471  0.213225  0.730691  0.259057  \n",
       "Parch       -0.583398  0.265863  0.631523  0.341989  \n",
       "Fare        -0.271832  0.205527  0.143636  0.188564  \n",
       "young&women -0.406498  0.297336  0.233257  0.988440  \n",
       "man          0.405681 -0.298450 -0.229632 -1.000000  \n",
       "Embarked_C  -0.095298  0.158586 -0.109274  0.071057  \n",
       "Embarked_S   0.029074 -0.084120  0.099265 -0.110586  \n",
       "Embarked_Q   0.086464 -0.087093 -0.005620  0.076811  \n",
       "Sex_encode   0.303646 -0.260747 -0.102954 -0.885571  \n",
       "Fare_fillin -0.134716  0.198030 -0.106230  0.111956  \n",
       "fares       -0.153169  0.239358 -0.146981  0.140334  \n",
       "FamilySize  -0.690922  0.278553  0.814901  0.347908  \n",
       "Single       1.000000 -0.859931 -0.336825 -0.405681  \n",
       "Nuclear     -0.859931  1.000000 -0.190940  0.298450  \n",
       "Big         -0.336825 -0.190940  1.000000  0.229632  \n",
       "mysex       -0.405681  0.298450  0.229632  1.000000  "
      ]
     },
     "execution_count": 510,
     "metadata": {},
     "output_type": "execute_result"
    }
   ],
   "source": [
    "train.corr()#상관관계 매트릭스"
   ]
  },
  {
   "cell_type": "code",
   "execution_count": 280,
   "metadata": {},
   "outputs": [
    {
     "name": "stdout",
     "output_type": "stream",
     "text": [
      "(891, 26)\n"
     ]
    }
   ],
   "source": [
    "train[\"FamilySize\"] = train[\"SibSp\"] + train[\"Parch\"] + 1\n",
    "print(train.shape)"
   ]
  },
  {
   "cell_type": "code",
   "execution_count": 271,
   "metadata": {},
   "outputs": [
    {
     "name": "stdout",
     "output_type": "stream",
     "text": [
      "(418, 20)\n"
     ]
    }
   ],
   "source": [
    "test[\"FamilySize\"] = test[\"SibSp\"] + test[\"Parch\"] + 1\n",
    "print(test.shape)"
   ]
  },
  {
   "cell_type": "code",
   "execution_count": 272,
   "metadata": {
    "scrolled": true
   },
   "outputs": [
    {
     "data": {
      "text/plain": [
       "<matplotlib.axes._subplots.AxesSubplot at 0x270967078c8>"
      ]
     },
     "execution_count": 272,
     "metadata": {},
     "output_type": "execute_result"
    },
    {
     "data": {
      "image/png": "[encoded data removed]",
      "text/plain": [
       "<Figure size 432x288 with 1 Axes>"
      ]
     },
     "metadata": {
      "needs_background": "light"
     },
     "output_type": "display_data"
    }
   ],
   "source": [
    "sns.countplot(data=train, x=\"FamilySize\", hue=\"Survived\")"
   ]
  },
  {
   "cell_type": "code",
   "execution_count": 273,
   "metadata": {},
   "outputs": [
    {
     "name": "stdout",
     "output_type": "stream",
     "text": [
      "(891, 23)\n"
     ]
    },
    {
     "data": {
      "text/html": [
       "<div>\n",
       "<style scoped>\n",
       "    .dataframe tbody tr th:only-of-type {\n",
       "        vertical-align: middle;\n",
       "    }\n",
       "\n",
       "    .dataframe tbody tr th {\n",
       "        vertical-align: top;\n",
       "    }\n",
       "\n",
       "    .dataframe thead th {\n",
       "        text-align: right;\n",
       "    }\n",
       "</style>\n",
       "<table border=\"1\" class=\"dataframe\">\n",
       "  <thead>\n",
       "    <tr style=\"text-align: right;\">\n",
       "      <th></th>\n",
       "      <th>FamilySize</th>\n",
       "      <th>FamilyType</th>\n",
       "    </tr>\n",
       "  </thead>\n",
       "  <tbody>\n",
       "    <tr>\n",
       "      <td>0</td>\n",
       "      <td>2</td>\n",
       "      <td>Nuclear</td>\n",
       "    </tr>\n",
       "    <tr>\n",
       "      <td>1</td>\n",
       "      <td>2</td>\n",
       "      <td>Nuclear</td>\n",
       "    </tr>\n",
       "    <tr>\n",
       "      <td>2</td>\n",
       "      <td>1</td>\n",
       "      <td>Single</td>\n",
       "    </tr>\n",
       "    <tr>\n",
       "      <td>3</td>\n",
       "      <td>2</td>\n",
       "      <td>Nuclear</td>\n",
       "    </tr>\n",
       "    <tr>\n",
       "      <td>4</td>\n",
       "      <td>1</td>\n",
       "      <td>Single</td>\n",
       "    </tr>\n",
       "    <tr>\n",
       "      <td>5</td>\n",
       "      <td>1</td>\n",
       "      <td>Single</td>\n",
       "    </tr>\n",
       "    <tr>\n",
       "      <td>6</td>\n",
       "      <td>1</td>\n",
       "      <td>Single</td>\n",
       "    </tr>\n",
       "    <tr>\n",
       "      <td>7</td>\n",
       "      <td>5</td>\n",
       "      <td>Big</td>\n",
       "    </tr>\n",
       "    <tr>\n",
       "      <td>8</td>\n",
       "      <td>3</td>\n",
       "      <td>Nuclear</td>\n",
       "    </tr>\n",
       "    <tr>\n",
       "      <td>9</td>\n",
       "      <td>2</td>\n",
       "      <td>Nuclear</td>\n",
       "    </tr>\n",
       "  </tbody>\n",
       "</table>\n",
       "</div>"
      ],
      "text/plain": [
       "   FamilySize FamilyType\n",
       "0           2    Nuclear\n",
       "1           2    Nuclear\n",
       "2           1     Single\n",
       "3           2    Nuclear\n",
       "4           1     Single\n",
       "5           1     Single\n",
       "6           1     Single\n",
       "7           5        Big\n",
       "8           3    Nuclear\n",
       "9           2    Nuclear"
      ]
     },
     "execution_count": 273,
     "metadata": {},
     "output_type": "execute_result"
    }
   ],
   "source": [
    "train.loc[train[\"FamilySize\"] == 1, \"FamilyType\"] = \"Single\"\n",
    "train.loc[(train[\"FamilySize\"] > 1) & (train[\"FamilySize\"] < 5), \"FamilyType\"] = \"Nuclear\"\n",
    "train.loc[train[\"FamilySize\"] >= 5, \"FamilyType\"] = \"Big\"\n",
    "print(train.shape)\n",
    "train[[\"FamilySize\", \"FamilyType\"]].head(10)"
   ]
  },
  {
   "cell_type": "code",
   "execution_count": 274,
   "metadata": {},
   "outputs": [],
   "source": [
    "test.loc[train[\"FamilySize\"] == 1, \"FamilyType\"] = \"Single\"\n",
    "test.loc[(train[\"FamilySize\"] > 1) & (train[\"FamilySize\"] < 5), \"FamilyType\"] = \"Nuclear\"\n",
    "test.loc[train[\"FamilySize\"] >= 5, \"FamilyType\"] = \"Big\""
   ]
  },
  {
   "cell_type": "code",
   "execution_count": 275,
   "metadata": {},
   "outputs": [
    {
     "data": {
      "text/plain": [
       "<matplotlib.axes._subplots.AxesSubplot at 0x270967ac508>"
      ]
     },
     "execution_count": 275,
     "metadata": {},
     "output_type": "execute_result"
    },
    {
     "data": {
      "image/png": "[encoded data removed]",
      "text/plain": [
       "<Figure size 432x288 with 1 Axes>"
      ]
     },
     "metadata": {
      "needs_background": "light"
     },
     "output_type": "display_data"
    }
   ],
   "source": [
    "sns.countplot(data=train, x=\"FamilyType\", hue=\"Survived\")"
   ]
  },
  {
   "cell_type": "code",
   "execution_count": 276,
   "metadata": {},
   "outputs": [
    {
     "data": {
      "text/html": [
       "<div>\n",
       "<style scoped>\n",
       "    .dataframe tbody tr th:only-of-type {\n",
       "        vertical-align: middle;\n",
       "    }\n",
       "\n",
       "    .dataframe tbody tr th {\n",
       "        vertical-align: top;\n",
       "    }\n",
       "\n",
       "    .dataframe thead th {\n",
       "        text-align: right;\n",
       "    }\n",
       "</style>\n",
       "<table border=\"1\" class=\"dataframe\">\n",
       "  <thead>\n",
       "    <tr style=\"text-align: right;\">\n",
       "      <th></th>\n",
       "      <th>Survived</th>\n",
       "    </tr>\n",
       "    <tr>\n",
       "      <th>FamilyType</th>\n",
       "      <th></th>\n",
       "    </tr>\n",
       "  </thead>\n",
       "  <tbody>\n",
       "    <tr>\n",
       "      <td>Big</td>\n",
       "      <td>0.161290</td>\n",
       "    </tr>\n",
       "    <tr>\n",
       "      <td>Nuclear</td>\n",
       "      <td>0.578767</td>\n",
       "    </tr>\n",
       "    <tr>\n",
       "      <td>Single</td>\n",
       "      <td>0.303538</td>\n",
       "    </tr>\n",
       "  </tbody>\n",
       "</table>\n",
       "</div>"
      ],
      "text/plain": [
       "            Survived\n",
       "FamilyType          \n",
       "Big         0.161290\n",
       "Nuclear     0.578767\n",
       "Single      0.303538"
      ]
     },
     "execution_count": 276,
     "metadata": {},
     "output_type": "execute_result"
    }
   ],
   "source": [
    "pd.pivot_table(data=train, index=\"FamilyType\", values=\"Survived\")"
   ]
  },
  {
   "cell_type": "code",
   "execution_count": 277,
   "metadata": {},
   "outputs": [
    {
     "name": "stdout",
     "output_type": "stream",
     "text": [
      "(891, 26)\n"
     ]
    },
    {
     "data": {
      "text/html": [
       "<div>\n",
       "<style scoped>\n",
       "    .dataframe tbody tr th:only-of-type {\n",
       "        vertical-align: middle;\n",
       "    }\n",
       "\n",
       "    .dataframe tbody tr th {\n",
       "        vertical-align: top;\n",
       "    }\n",
       "\n",
       "    .dataframe thead th {\n",
       "        text-align: right;\n",
       "    }\n",
       "</style>\n",
       "<table border=\"1\" class=\"dataframe\">\n",
       "  <thead>\n",
       "    <tr style=\"text-align: right;\">\n",
       "      <th></th>\n",
       "      <th>FamilySize</th>\n",
       "      <th>Single</th>\n",
       "      <th>Nuclear</th>\n",
       "      <th>Big</th>\n",
       "    </tr>\n",
       "  </thead>\n",
       "  <tbody>\n",
       "    <tr>\n",
       "      <td>0</td>\n",
       "      <td>2</td>\n",
       "      <td>False</td>\n",
       "      <td>True</td>\n",
       "      <td>False</td>\n",
       "    </tr>\n",
       "    <tr>\n",
       "      <td>1</td>\n",
       "      <td>2</td>\n",
       "      <td>False</td>\n",
       "      <td>True</td>\n",
       "      <td>False</td>\n",
       "    </tr>\n",
       "    <tr>\n",
       "      <td>2</td>\n",
       "      <td>1</td>\n",
       "      <td>True</td>\n",
       "      <td>False</td>\n",
       "      <td>False</td>\n",
       "    </tr>\n",
       "    <tr>\n",
       "      <td>3</td>\n",
       "      <td>2</td>\n",
       "      <td>False</td>\n",
       "      <td>True</td>\n",
       "      <td>False</td>\n",
       "    </tr>\n",
       "    <tr>\n",
       "      <td>4</td>\n",
       "      <td>1</td>\n",
       "      <td>True</td>\n",
       "      <td>False</td>\n",
       "      <td>False</td>\n",
       "    </tr>\n",
       "    <tr>\n",
       "      <td>5</td>\n",
       "      <td>1</td>\n",
       "      <td>True</td>\n",
       "      <td>False</td>\n",
       "      <td>False</td>\n",
       "    </tr>\n",
       "    <tr>\n",
       "      <td>6</td>\n",
       "      <td>1</td>\n",
       "      <td>True</td>\n",
       "      <td>False</td>\n",
       "      <td>False</td>\n",
       "    </tr>\n",
       "    <tr>\n",
       "      <td>7</td>\n",
       "      <td>5</td>\n",
       "      <td>False</td>\n",
       "      <td>False</td>\n",
       "      <td>True</td>\n",
       "    </tr>\n",
       "    <tr>\n",
       "      <td>8</td>\n",
       "      <td>3</td>\n",
       "      <td>False</td>\n",
       "      <td>True</td>\n",
       "      <td>False</td>\n",
       "    </tr>\n",
       "    <tr>\n",
       "      <td>9</td>\n",
       "      <td>2</td>\n",
       "      <td>False</td>\n",
       "      <td>True</td>\n",
       "      <td>False</td>\n",
       "    </tr>\n",
       "  </tbody>\n",
       "</table>\n",
       "</div>"
      ],
      "text/plain": [
       "   FamilySize  Single  Nuclear    Big\n",
       "0           2   False     True  False\n",
       "1           2   False     True  False\n",
       "2           1    True    False  False\n",
       "3           2   False     True  False\n",
       "4           1    True    False  False\n",
       "5           1    True    False  False\n",
       "6           1    True    False  False\n",
       "7           5   False    False   True\n",
       "8           3   False     True  False\n",
       "9           2   False     True  False"
      ]
     },
     "execution_count": 277,
     "metadata": {},
     "output_type": "execute_result"
    }
   ],
   "source": [
    "train[\"Single\"] = train[\"FamilySize\"] == 1\n",
    "train[\"Nuclear\"] = (train[\"FamilySize\"] > 1) & (train[\"FamilySize\"] < 5)\n",
    "train[\"Big\"] = train[\"FamilySize\"] >= 5\n",
    "print(train.shape)\n",
    "train[[\"FamilySize\", \"Single\", \"Nuclear\", \"Big\"]].head(10)"
   ]
  },
  {
   "cell_type": "code",
   "execution_count": 278,
   "metadata": {},
   "outputs": [
    {
     "name": "stdout",
     "output_type": "stream",
     "text": [
      "(418, 24)\n"
     ]
    },
    {
     "data": {
      "text/html": [
       "<div>\n",
       "<style scoped>\n",
       "    .dataframe tbody tr th:only-of-type {\n",
       "        vertical-align: middle;\n",
       "    }\n",
       "\n",
       "    .dataframe tbody tr th {\n",
       "        vertical-align: top;\n",
       "    }\n",
       "\n",
       "    .dataframe thead th {\n",
       "        text-align: right;\n",
       "    }\n",
       "</style>\n",
       "<table border=\"1\" class=\"dataframe\">\n",
       "  <thead>\n",
       "    <tr style=\"text-align: right;\">\n",
       "      <th></th>\n",
       "      <th>FamilySize</th>\n",
       "      <th>Single</th>\n",
       "      <th>Nuclear</th>\n",
       "      <th>Big</th>\n",
       "    </tr>\n",
       "  </thead>\n",
       "  <tbody>\n",
       "    <tr>\n",
       "      <td>0</td>\n",
       "      <td>1</td>\n",
       "      <td>True</td>\n",
       "      <td>False</td>\n",
       "      <td>False</td>\n",
       "    </tr>\n",
       "    <tr>\n",
       "      <td>1</td>\n",
       "      <td>2</td>\n",
       "      <td>False</td>\n",
       "      <td>True</td>\n",
       "      <td>False</td>\n",
       "    </tr>\n",
       "    <tr>\n",
       "      <td>2</td>\n",
       "      <td>1</td>\n",
       "      <td>True</td>\n",
       "      <td>False</td>\n",
       "      <td>False</td>\n",
       "    </tr>\n",
       "    <tr>\n",
       "      <td>3</td>\n",
       "      <td>1</td>\n",
       "      <td>True</td>\n",
       "      <td>False</td>\n",
       "      <td>False</td>\n",
       "    </tr>\n",
       "    <tr>\n",
       "      <td>4</td>\n",
       "      <td>3</td>\n",
       "      <td>False</td>\n",
       "      <td>True</td>\n",
       "      <td>False</td>\n",
       "    </tr>\n",
       "    <tr>\n",
       "      <td>5</td>\n",
       "      <td>1</td>\n",
       "      <td>True</td>\n",
       "      <td>False</td>\n",
       "      <td>False</td>\n",
       "    </tr>\n",
       "    <tr>\n",
       "      <td>6</td>\n",
       "      <td>1</td>\n",
       "      <td>True</td>\n",
       "      <td>False</td>\n",
       "      <td>False</td>\n",
       "    </tr>\n",
       "    <tr>\n",
       "      <td>7</td>\n",
       "      <td>3</td>\n",
       "      <td>False</td>\n",
       "      <td>True</td>\n",
       "      <td>False</td>\n",
       "    </tr>\n",
       "    <tr>\n",
       "      <td>8</td>\n",
       "      <td>1</td>\n",
       "      <td>True</td>\n",
       "      <td>False</td>\n",
       "      <td>False</td>\n",
       "    </tr>\n",
       "    <tr>\n",
       "      <td>9</td>\n",
       "      <td>3</td>\n",
       "      <td>False</td>\n",
       "      <td>True</td>\n",
       "      <td>False</td>\n",
       "    </tr>\n",
       "  </tbody>\n",
       "</table>\n",
       "</div>"
      ],
      "text/plain": [
       "   FamilySize  Single  Nuclear    Big\n",
       "0           1    True    False  False\n",
       "1           2   False     True  False\n",
       "2           1    True    False  False\n",
       "3           1    True    False  False\n",
       "4           3   False     True  False\n",
       "5           1    True    False  False\n",
       "6           1    True    False  False\n",
       "7           3   False     True  False\n",
       "8           1    True    False  False\n",
       "9           3   False     True  False"
      ]
     },
     "execution_count": 278,
     "metadata": {},
     "output_type": "execute_result"
    }
   ],
   "source": [
    "test[\"Single\"] = test[\"FamilySize\"] == 1\n",
    "test[\"Nuclear\"] = (test[\"FamilySize\"] > 1) & (test[\"FamilySize\"] < 5)\n",
    "test[\"Big\"] = test[\"FamilySize\"] >= 5\n",
    "print(test.shape)\n",
    "test[[\"FamilySize\", \"Single\", \"Nuclear\", \"Big\"]].head(10)"
   ]
  },
  {
   "cell_type": "code",
   "execution_count": 494,
   "metadata": {},
   "outputs": [
    {
     "data": {
      "text/html": [
       "<div>\n",
       "<style scoped>\n",
       "    .dataframe tbody tr th:only-of-type {\n",
       "        vertical-align: middle;\n",
       "    }\n",
       "\n",
       "    .dataframe tbody tr th {\n",
       "        vertical-align: top;\n",
       "    }\n",
       "\n",
       "    .dataframe thead th {\n",
       "        text-align: right;\n",
       "    }\n",
       "</style>\n",
       "<table border=\"1\" class=\"dataframe\">\n",
       "  <thead>\n",
       "    <tr style=\"text-align: right;\">\n",
       "      <th></th>\n",
       "      <th>PassengerId</th>\n",
       "      <th>Survived</th>\n",
       "      <th>Pclass</th>\n",
       "      <th>Age</th>\n",
       "      <th>SibSp</th>\n",
       "      <th>Parch</th>\n",
       "      <th>Fare</th>\n",
       "      <th>young&amp;women</th>\n",
       "      <th>man</th>\n",
       "      <th>Embarked_C</th>\n",
       "      <th>Embarked_S</th>\n",
       "      <th>Embarked_Q</th>\n",
       "      <th>Sex_encode</th>\n",
       "      <th>Fare_fillin</th>\n",
       "      <th>fares</th>\n",
       "      <th>FamilySize</th>\n",
       "      <th>Single</th>\n",
       "      <th>Nuclear</th>\n",
       "      <th>Big</th>\n",
       "      <th>mysex</th>\n",
       "    </tr>\n",
       "  </thead>\n",
       "  <tbody>\n",
       "    <tr>\n",
       "      <td>PassengerId</td>\n",
       "      <td>1.000000</td>\n",
       "      <td>-0.005007</td>\n",
       "      <td>-0.035144</td>\n",
       "      <td>0.036847</td>\n",
       "      <td>-0.057527</td>\n",
       "      <td>-0.001652</td>\n",
       "      <td>0.012658</td>\n",
       "      <td>-0.049744</td>\n",
       "      <td>0.041419</td>\n",
       "      <td>-0.001205</td>\n",
       "      <td>0.022204</td>\n",
       "      <td>-0.033606</td>\n",
       "      <td>0.042939</td>\n",
       "      <td>0.023267</td>\n",
       "      <td>0.021634</td>\n",
       "      <td>-0.040143</td>\n",
       "      <td>0.057462</td>\n",
       "      <td>-0.028976</td>\n",
       "      <td>-0.057055</td>\n",
       "      <td>0.041419</td>\n",
       "    </tr>\n",
       "    <tr>\n",
       "      <td>Survived</td>\n",
       "      <td>-0.005007</td>\n",
       "      <td>1.000000</td>\n",
       "      <td>-0.338481</td>\n",
       "      <td>-0.077221</td>\n",
       "      <td>-0.035322</td>\n",
       "      <td>0.081629</td>\n",
       "      <td>0.257307</td>\n",
       "      <td>0.563511</td>\n",
       "      <td>-0.562671</td>\n",
       "      <td>0.168240</td>\n",
       "      <td>-0.149683</td>\n",
       "      <td>0.003650</td>\n",
       "      <td>-0.543351</td>\n",
       "      <td>0.317052</td>\n",
       "      <td>0.356638</td>\n",
       "      <td>0.016639</td>\n",
       "      <td>-0.203367</td>\n",
       "      <td>0.279855</td>\n",
       "      <td>-0.125147</td>\n",
       "      <td>-0.562671</td>\n",
       "    </tr>\n",
       "    <tr>\n",
       "      <td>Pclass</td>\n",
       "      <td>-0.035144</td>\n",
       "      <td>-0.338481</td>\n",
       "      <td>1.000000</td>\n",
       "      <td>-0.369226</td>\n",
       "      <td>0.083081</td>\n",
       "      <td>0.018443</td>\n",
       "      <td>-0.549500</td>\n",
       "      <td>-0.109791</td>\n",
       "      <td>0.127425</td>\n",
       "      <td>-0.243292</td>\n",
       "      <td>0.074053</td>\n",
       "      <td>0.221009</td>\n",
       "      <td>0.131900</td>\n",
       "      <td>-0.912606</td>\n",
       "      <td>-0.979271</td>\n",
       "      <td>0.065997</td>\n",
       "      <td>0.135207</td>\n",
       "      <td>-0.223551</td>\n",
       "      <td>0.152366</td>\n",
       "      <td>0.127425</td>\n",
       "    </tr>\n",
       "    <tr>\n",
       "      <td>Age</td>\n",
       "      <td>0.036847</td>\n",
       "      <td>-0.077221</td>\n",
       "      <td>-0.369226</td>\n",
       "      <td>1.000000</td>\n",
       "      <td>-0.308247</td>\n",
       "      <td>-0.189119</td>\n",
       "      <td>0.096067</td>\n",
       "      <td>-0.256904</td>\n",
       "      <td>0.235802</td>\n",
       "      <td>0.036261</td>\n",
       "      <td>-0.023233</td>\n",
       "      <td>-0.022405</td>\n",
       "      <td>0.093254</td>\n",
       "      <td>0.356091</td>\n",
       "      <td>0.363850</td>\n",
       "      <td>-0.301914</td>\n",
       "      <td>0.198270</td>\n",
       "      <td>-0.083059</td>\n",
       "      <td>-0.226521</td>\n",
       "      <td>0.235802</td>\n",
       "    </tr>\n",
       "    <tr>\n",
       "      <td>SibSp</td>\n",
       "      <td>-0.057527</td>\n",
       "      <td>-0.035322</td>\n",
       "      <td>0.083081</td>\n",
       "      <td>-0.308247</td>\n",
       "      <td>1.000000</td>\n",
       "      <td>0.414838</td>\n",
       "      <td>0.159651</td>\n",
       "      <td>0.260895</td>\n",
       "      <td>-0.259057</td>\n",
       "      <td>-0.059528</td>\n",
       "      <td>0.068734</td>\n",
       "      <td>-0.026354</td>\n",
       "      <td>-0.114631</td>\n",
       "      <td>-0.055006</td>\n",
       "      <td>-0.073128</td>\n",
       "      <td>0.890712</td>\n",
       "      <td>-0.584471</td>\n",
       "      <td>0.213225</td>\n",
       "      <td>0.730691</td>\n",
       "      <td>-0.259057</td>\n",
       "    </tr>\n",
       "    <tr>\n",
       "      <td>Parch</td>\n",
       "      <td>-0.001652</td>\n",
       "      <td>0.081629</td>\n",
       "      <td>0.018443</td>\n",
       "      <td>-0.189119</td>\n",
       "      <td>0.414838</td>\n",
       "      <td>1.000000</td>\n",
       "      <td>0.216225</td>\n",
       "      <td>0.345308</td>\n",
       "      <td>-0.341989</td>\n",
       "      <td>-0.011069</td>\n",
       "      <td>0.060814</td>\n",
       "      <td>-0.081228</td>\n",
       "      <td>-0.245489</td>\n",
       "      <td>-0.011044</td>\n",
       "      <td>-0.008291</td>\n",
       "      <td>0.783111</td>\n",
       "      <td>-0.583398</td>\n",
       "      <td>0.265863</td>\n",
       "      <td>0.631523</td>\n",
       "      <td>-0.341989</td>\n",
       "    </tr>\n",
       "    <tr>\n",
       "      <td>Fare</td>\n",
       "      <td>0.012658</td>\n",
       "      <td>0.257307</td>\n",
       "      <td>-0.549500</td>\n",
       "      <td>0.096067</td>\n",
       "      <td>0.159651</td>\n",
       "      <td>0.216225</td>\n",
       "      <td>1.000000</td>\n",
       "      <td>0.187869</td>\n",
       "      <td>-0.188564</td>\n",
       "      <td>0.269335</td>\n",
       "      <td>-0.162184</td>\n",
       "      <td>-0.117216</td>\n",
       "      <td>-0.182333</td>\n",
       "      <td>0.608175</td>\n",
       "      <td>0.565329</td>\n",
       "      <td>0.217138</td>\n",
       "      <td>-0.271832</td>\n",
       "      <td>0.205527</td>\n",
       "      <td>0.143636</td>\n",
       "      <td>-0.188564</td>\n",
       "    </tr>\n",
       "    <tr>\n",
       "      <td>young&amp;women</td>\n",
       "      <td>-0.049744</td>\n",
       "      <td>0.563511</td>\n",
       "      <td>-0.109791</td>\n",
       "      <td>-0.256904</td>\n",
       "      <td>0.260895</td>\n",
       "      <td>0.345308</td>\n",
       "      <td>0.187869</td>\n",
       "      <td>1.000000</td>\n",
       "      <td>-0.988440</td>\n",
       "      <td>0.070876</td>\n",
       "      <td>-0.112746</td>\n",
       "      <td>0.080495</td>\n",
       "      <td>-0.895928</td>\n",
       "      <td>0.095763</td>\n",
       "      <td>0.127915</td>\n",
       "      <td>0.350823</td>\n",
       "      <td>-0.406498</td>\n",
       "      <td>0.297336</td>\n",
       "      <td>0.233257</td>\n",
       "      <td>-0.988440</td>\n",
       "    </tr>\n",
       "    <tr>\n",
       "      <td>man</td>\n",
       "      <td>0.041419</td>\n",
       "      <td>-0.562671</td>\n",
       "      <td>0.127425</td>\n",
       "      <td>0.235802</td>\n",
       "      <td>-0.259057</td>\n",
       "      <td>-0.341989</td>\n",
       "      <td>-0.188564</td>\n",
       "      <td>-0.988440</td>\n",
       "      <td>1.000000</td>\n",
       "      <td>-0.071057</td>\n",
       "      <td>0.110586</td>\n",
       "      <td>-0.076811</td>\n",
       "      <td>0.885571</td>\n",
       "      <td>-0.110441</td>\n",
       "      <td>-0.140334</td>\n",
       "      <td>-0.347908</td>\n",
       "      <td>0.405681</td>\n",
       "      <td>-0.298450</td>\n",
       "      <td>-0.229632</td>\n",
       "      <td>1.000000</td>\n",
       "    </tr>\n",
       "    <tr>\n",
       "      <td>Embarked_C</td>\n",
       "      <td>-0.001205</td>\n",
       "      <td>0.168240</td>\n",
       "      <td>-0.243292</td>\n",
       "      <td>0.036261</td>\n",
       "      <td>-0.059528</td>\n",
       "      <td>-0.011069</td>\n",
       "      <td>0.269335</td>\n",
       "      <td>0.070876</td>\n",
       "      <td>-0.071057</td>\n",
       "      <td>1.000000</td>\n",
       "      <td>-0.782742</td>\n",
       "      <td>-0.148258</td>\n",
       "      <td>-0.082853</td>\n",
       "      <td>0.300093</td>\n",
       "      <td>0.254504</td>\n",
       "      <td>-0.046215</td>\n",
       "      <td>-0.095298</td>\n",
       "      <td>0.158586</td>\n",
       "      <td>-0.109274</td>\n",
       "      <td>-0.071057</td>\n",
       "    </tr>\n",
       "    <tr>\n",
       "      <td>Embarked_S</td>\n",
       "      <td>0.022204</td>\n",
       "      <td>-0.149683</td>\n",
       "      <td>0.074053</td>\n",
       "      <td>-0.023233</td>\n",
       "      <td>0.068734</td>\n",
       "      <td>0.060814</td>\n",
       "      <td>-0.162184</td>\n",
       "      <td>-0.112746</td>\n",
       "      <td>0.110586</td>\n",
       "      <td>-0.782742</td>\n",
       "      <td>1.000000</td>\n",
       "      <td>-0.499421</td>\n",
       "      <td>0.119224</td>\n",
       "      <td>-0.156471</td>\n",
       "      <td>-0.087581</td>\n",
       "      <td>0.077359</td>\n",
       "      <td>0.029074</td>\n",
       "      <td>-0.084120</td>\n",
       "      <td>0.099265</td>\n",
       "      <td>0.110586</td>\n",
       "    </tr>\n",
       "    <tr>\n",
       "      <td>Embarked_Q</td>\n",
       "      <td>-0.033606</td>\n",
       "      <td>0.003650</td>\n",
       "      <td>0.221009</td>\n",
       "      <td>-0.022405</td>\n",
       "      <td>-0.026354</td>\n",
       "      <td>-0.081228</td>\n",
       "      <td>-0.117216</td>\n",
       "      <td>0.080495</td>\n",
       "      <td>-0.076811</td>\n",
       "      <td>-0.148258</td>\n",
       "      <td>-0.499421</td>\n",
       "      <td>1.000000</td>\n",
       "      <td>-0.074115</td>\n",
       "      <td>-0.169112</td>\n",
       "      <td>-0.215120</td>\n",
       "      <td>-0.058592</td>\n",
       "      <td>0.086464</td>\n",
       "      <td>-0.087093</td>\n",
       "      <td>-0.005620</td>\n",
       "      <td>-0.076811</td>\n",
       "    </tr>\n",
       "    <tr>\n",
       "      <td>Sex_encode</td>\n",
       "      <td>0.042939</td>\n",
       "      <td>-0.543351</td>\n",
       "      <td>0.131900</td>\n",
       "      <td>0.093254</td>\n",
       "      <td>-0.114631</td>\n",
       "      <td>-0.245489</td>\n",
       "      <td>-0.182333</td>\n",
       "      <td>-0.895928</td>\n",
       "      <td>0.885571</td>\n",
       "      <td>-0.082853</td>\n",
       "      <td>0.119224</td>\n",
       "      <td>-0.074115</td>\n",
       "      <td>1.000000</td>\n",
       "      <td>-0.119288</td>\n",
       "      <td>-0.148251</td>\n",
       "      <td>-0.200988</td>\n",
       "      <td>0.303646</td>\n",
       "      <td>-0.260747</td>\n",
       "      <td>-0.102954</td>\n",
       "      <td>0.885571</td>\n",
       "    </tr>\n",
       "    <tr>\n",
       "      <td>Fare_fillin</td>\n",
       "      <td>0.023267</td>\n",
       "      <td>0.317052</td>\n",
       "      <td>-0.912606</td>\n",
       "      <td>0.356091</td>\n",
       "      <td>-0.055006</td>\n",
       "      <td>-0.011044</td>\n",
       "      <td>0.608175</td>\n",
       "      <td>0.095763</td>\n",
       "      <td>-0.110441</td>\n",
       "      <td>0.300093</td>\n",
       "      <td>-0.156471</td>\n",
       "      <td>-0.169112</td>\n",
       "      <td>-0.119288</td>\n",
       "      <td>1.000000</td>\n",
       "      <td>0.929100</td>\n",
       "      <td>-0.043112</td>\n",
       "      <td>-0.133553</td>\n",
       "      <td>0.195723</td>\n",
       "      <td>-0.104210</td>\n",
       "      <td>-0.110441</td>\n",
       "    </tr>\n",
       "    <tr>\n",
       "      <td>fares</td>\n",
       "      <td>0.021634</td>\n",
       "      <td>0.356638</td>\n",
       "      <td>-0.979271</td>\n",
       "      <td>0.363850</td>\n",
       "      <td>-0.073128</td>\n",
       "      <td>-0.008291</td>\n",
       "      <td>0.565329</td>\n",
       "      <td>0.127915</td>\n",
       "      <td>-0.140334</td>\n",
       "      <td>0.254504</td>\n",
       "      <td>-0.087581</td>\n",
       "      <td>-0.215120</td>\n",
       "      <td>-0.148251</td>\n",
       "      <td>0.929100</td>\n",
       "      <td>1.000000</td>\n",
       "      <td>-0.054123</td>\n",
       "      <td>-0.153169</td>\n",
       "      <td>0.239358</td>\n",
       "      <td>-0.146981</td>\n",
       "      <td>-0.140334</td>\n",
       "    </tr>\n",
       "    <tr>\n",
       "      <td>FamilySize</td>\n",
       "      <td>-0.040143</td>\n",
       "      <td>0.016639</td>\n",
       "      <td>0.065997</td>\n",
       "      <td>-0.301914</td>\n",
       "      <td>0.890712</td>\n",
       "      <td>0.783111</td>\n",
       "      <td>0.217138</td>\n",
       "      <td>0.350823</td>\n",
       "      <td>-0.347908</td>\n",
       "      <td>-0.046215</td>\n",
       "      <td>0.077359</td>\n",
       "      <td>-0.058592</td>\n",
       "      <td>-0.200988</td>\n",
       "      <td>-0.043112</td>\n",
       "      <td>-0.054123</td>\n",
       "      <td>1.000000</td>\n",
       "      <td>-0.690922</td>\n",
       "      <td>0.278553</td>\n",
       "      <td>0.814901</td>\n",
       "      <td>-0.347908</td>\n",
       "    </tr>\n",
       "    <tr>\n",
       "      <td>Single</td>\n",
       "      <td>0.057462</td>\n",
       "      <td>-0.203367</td>\n",
       "      <td>0.135207</td>\n",
       "      <td>0.198270</td>\n",
       "      <td>-0.584471</td>\n",
       "      <td>-0.583398</td>\n",
       "      <td>-0.271832</td>\n",
       "      <td>-0.406498</td>\n",
       "      <td>0.405681</td>\n",
       "      <td>-0.095298</td>\n",
       "      <td>0.029074</td>\n",
       "      <td>0.086464</td>\n",
       "      <td>0.303646</td>\n",
       "      <td>-0.133553</td>\n",
       "      <td>-0.153169</td>\n",
       "      <td>-0.690922</td>\n",
       "      <td>1.000000</td>\n",
       "      <td>-0.859931</td>\n",
       "      <td>-0.336825</td>\n",
       "      <td>0.405681</td>\n",
       "    </tr>\n",
       "    <tr>\n",
       "      <td>Nuclear</td>\n",
       "      <td>-0.028976</td>\n",
       "      <td>0.279855</td>\n",
       "      <td>-0.223551</td>\n",
       "      <td>-0.083059</td>\n",
       "      <td>0.213225</td>\n",
       "      <td>0.265863</td>\n",
       "      <td>0.205527</td>\n",
       "      <td>0.297336</td>\n",
       "      <td>-0.298450</td>\n",
       "      <td>0.158586</td>\n",
       "      <td>-0.084120</td>\n",
       "      <td>-0.087093</td>\n",
       "      <td>-0.260747</td>\n",
       "      <td>0.195723</td>\n",
       "      <td>0.239358</td>\n",
       "      <td>0.278553</td>\n",
       "      <td>-0.859931</td>\n",
       "      <td>1.000000</td>\n",
       "      <td>-0.190940</td>\n",
       "      <td>-0.298450</td>\n",
       "    </tr>\n",
       "    <tr>\n",
       "      <td>Big</td>\n",
       "      <td>-0.057055</td>\n",
       "      <td>-0.125147</td>\n",
       "      <td>0.152366</td>\n",
       "      <td>-0.226521</td>\n",
       "      <td>0.730691</td>\n",
       "      <td>0.631523</td>\n",
       "      <td>0.143636</td>\n",
       "      <td>0.233257</td>\n",
       "      <td>-0.229632</td>\n",
       "      <td>-0.109274</td>\n",
       "      <td>0.099265</td>\n",
       "      <td>-0.005620</td>\n",
       "      <td>-0.102954</td>\n",
       "      <td>-0.104210</td>\n",
       "      <td>-0.146981</td>\n",
       "      <td>0.814901</td>\n",
       "      <td>-0.336825</td>\n",
       "      <td>-0.190940</td>\n",
       "      <td>1.000000</td>\n",
       "      <td>-0.229632</td>\n",
       "    </tr>\n",
       "    <tr>\n",
       "      <td>mysex</td>\n",
       "      <td>0.041419</td>\n",
       "      <td>-0.562671</td>\n",
       "      <td>0.127425</td>\n",
       "      <td>0.235802</td>\n",
       "      <td>-0.259057</td>\n",
       "      <td>-0.341989</td>\n",
       "      <td>-0.188564</td>\n",
       "      <td>-0.988440</td>\n",
       "      <td>1.000000</td>\n",
       "      <td>-0.071057</td>\n",
       "      <td>0.110586</td>\n",
       "      <td>-0.076811</td>\n",
       "      <td>0.885571</td>\n",
       "      <td>-0.110441</td>\n",
       "      <td>-0.140334</td>\n",
       "      <td>-0.347908</td>\n",
       "      <td>0.405681</td>\n",
       "      <td>-0.298450</td>\n",
       "      <td>-0.229632</td>\n",
       "      <td>1.000000</td>\n",
       "    </tr>\n",
       "  </tbody>\n",
       "</table>\n",
       "</div>"
      ],
      "text/plain": [
       "             PassengerId  Survived    Pclass       Age     SibSp     Parch  \\\n",
       "PassengerId     1.000000 -0.005007 -0.035144  0.036847 -0.057527 -0.001652   \n",
       "Survived       -0.005007  1.000000 -0.338481 -0.077221 -0.035322  0.081629   \n",
       "Pclass         -0.035144 -0.338481  1.000000 -0.369226  0.083081  0.018443   \n",
       "Age             0.036847 -0.077221 -0.369226  1.000000 -0.308247 -0.189119   \n",
       "SibSp          -0.057527 -0.035322  0.083081 -0.308247  1.000000  0.414838   \n",
       "Parch          -0.001652  0.081629  0.018443 -0.189119  0.414838  1.000000   \n",
       "Fare            0.012658  0.257307 -0.549500  0.096067  0.159651  0.216225   \n",
       "young&women    -0.049744  0.563511 -0.109791 -0.256904  0.260895  0.345308   \n",
       "man             0.041419 -0.562671  0.127425  0.235802 -0.259057 -0.341989   \n",
       "Embarked_C     -0.001205  0.168240 -0.243292  0.036261 -0.059528 -0.011069   \n",
       "Embarked_S      0.022204 -0.149683  0.074053 -0.023233  0.068734  0.060814   \n",
       "Embarked_Q     -0.033606  0.003650  0.221009 -0.022405 -0.026354 -0.081228   \n",
       "Sex_encode      0.042939 -0.543351  0.131900  0.093254 -0.114631 -0.245489   \n",
       "Fare_fillin     0.023267  0.317052 -0.912606  0.356091 -0.055006 -0.011044   \n",
       "fares           0.021634  0.356638 -0.979271  0.363850 -0.073128 -0.008291   \n",
       "FamilySize     -0.040143  0.016639  0.065997 -0.301914  0.890712  0.783111   \n",
       "Single          0.057462 -0.203367  0.135207  0.198270 -0.584471 -0.583398   \n",
       "Nuclear        -0.028976  0.279855 -0.223551 -0.083059  0.213225  0.265863   \n",
       "Big            -0.057055 -0.125147  0.152366 -0.226521  0.730691  0.631523   \n",
       "mysex           0.041419 -0.562671  0.127425  0.235802 -0.259057 -0.341989   \n",
       "\n",
       "                 Fare  young&women       man  Embarked_C  Embarked_S  \\\n",
       "PassengerId  0.012658    -0.049744  0.041419   -0.001205    0.022204   \n",
       "Survived     0.257307     0.563511 -0.562671    0.168240   -0.149683   \n",
       "Pclass      -0.549500    -0.109791  0.127425   -0.243292    0.074053   \n",
       "Age          0.096067    -0.256904  0.235802    0.036261   -0.023233   \n",
       "SibSp        0.159651     0.260895 -0.259057   -0.059528    0.068734   \n",
       "Parch        0.216225     0.345308 -0.341989   -0.011069    0.060814   \n",
       "Fare         1.000000     0.187869 -0.188564    0.269335   -0.162184   \n",
       "young&women  0.187869     1.000000 -0.988440    0.070876   -0.112746   \n",
       "man         -0.188564    -0.988440  1.000000   -0.071057    0.110586   \n",
       "Embarked_C   0.269335     0.070876 -0.071057    1.000000   -0.782742   \n",
       "Embarked_S  -0.162184    -0.112746  0.110586   -0.782742    1.000000   \n",
       "Embarked_Q  -0.117216     0.080495 -0.076811   -0.148258   -0.499421   \n",
       "Sex_encode  -0.182333    -0.895928  0.885571   -0.082853    0.119224   \n",
       "Fare_fillin  0.608175     0.095763 -0.110441    0.300093   -0.156471   \n",
       "fares        0.565329     0.127915 -0.140334    0.254504   -0.087581   \n",
       "FamilySize   0.217138     0.350823 -0.347908   -0.046215    0.077359   \n",
       "Single      -0.271832    -0.406498  0.405681   -0.095298    0.029074   \n",
       "Nuclear      0.205527     0.297336 -0.298450    0.158586   -0.084120   \n",
       "Big          0.143636     0.233257 -0.229632   -0.109274    0.099265   \n",
       "mysex       -0.188564    -0.988440  1.000000   -0.071057    0.110586   \n",
       "\n",
       "             Embarked_Q  Sex_encode  Fare_fillin     fares  FamilySize  \\\n",
       "PassengerId   -0.033606    0.042939     0.023267  0.021634   -0.040143   \n",
       "Survived       0.003650   -0.543351     0.317052  0.356638    0.016639   \n",
       "Pclass         0.221009    0.131900    -0.912606 -0.979271    0.065997   \n",
       "Age           -0.022405    0.093254     0.356091  0.363850   -0.301914   \n",
       "SibSp         -0.026354   -0.114631    -0.055006 -0.073128    0.890712   \n",
       "Parch         -0.081228   -0.245489    -0.011044 -0.008291    0.783111   \n",
       "Fare          -0.117216   -0.182333     0.608175  0.565329    0.217138   \n",
       "young&women    0.080495   -0.895928     0.095763  0.127915    0.350823   \n",
       "man           -0.076811    0.885571    -0.110441 -0.140334   -0.347908   \n",
       "Embarked_C    -0.148258   -0.082853     0.300093  0.254504   -0.046215   \n",
       "Embarked_S    -0.499421    0.119224    -0.156471 -0.087581    0.077359   \n",
       "Embarked_Q     1.000000   -0.074115    -0.169112 -0.215120   -0.058592   \n",
       "Sex_encode    -0.074115    1.000000    -0.119288 -0.148251   -0.200988   \n",
       "Fare_fillin   -0.169112   -0.119288     1.000000  0.929100   -0.043112   \n",
       "fares         -0.215120   -0.148251     0.929100  1.000000   -0.054123   \n",
       "FamilySize    -0.058592   -0.200988    -0.043112 -0.054123    1.000000   \n",
       "Single         0.086464    0.303646    -0.133553 -0.153169   -0.690922   \n",
       "Nuclear       -0.087093   -0.260747     0.195723  0.239358    0.278553   \n",
       "Big           -0.005620   -0.102954    -0.104210 -0.146981    0.814901   \n",
       "mysex         -0.076811    0.885571    -0.110441 -0.140334   -0.347908   \n",
       "\n",
       "               Single   Nuclear       Big     mysex  \n",
       "PassengerId  0.057462 -0.028976 -0.057055  0.041419  \n",
       "Survived    -0.203367  0.279855 -0.125147 -0.562671  \n",
       "Pclass       0.135207 -0.223551  0.152366  0.127425  \n",
       "Age          0.198270 -0.083059 -0.226521  0.235802  \n",
       "SibSp       -0.584471  0.213225  0.730691 -0.259057  \n",
       "Parch       -0.583398  0.265863  0.631523 -0.341989  \n",
       "Fare        -0.271832  0.205527  0.143636 -0.188564  \n",
       "young&women -0.406498  0.297336  0.233257 -0.988440  \n",
       "man          0.405681 -0.298450 -0.229632  1.000000  \n",
       "Embarked_C  -0.095298  0.158586 -0.109274 -0.071057  \n",
       "Embarked_S   0.029074 -0.084120  0.099265  0.110586  \n",
       "Embarked_Q   0.086464 -0.087093 -0.005620 -0.076811  \n",
       "Sex_encode   0.303646 -0.260747 -0.102954  0.885571  \n",
       "Fare_fillin -0.133553  0.195723 -0.104210 -0.110441  \n",
       "fares       -0.153169  0.239358 -0.146981 -0.140334  \n",
       "FamilySize  -0.690922  0.278553  0.814901 -0.347908  \n",
       "Single       1.000000 -0.859931 -0.336825  0.405681  \n",
       "Nuclear     -0.859931  1.000000 -0.190940 -0.298450  \n",
       "Big         -0.336825 -0.190940  1.000000 -0.229632  \n",
       "mysex        0.405681 -0.298450 -0.229632  1.000000  "
      ]
     },
     "execution_count": 494,
     "metadata": {},
     "output_type": "execute_result"
    }
   ],
   "source": [
    "train.corr()"
   ]
  },
  {
   "cell_type": "code",
   "execution_count": null,
   "metadata": {},
   "outputs": [],
   "source": [
    "#mysex로 young&women일때 1, man일때 0을 대입했는데 점수가 더 낮게나옴"
   ]
  },
  {
   "cell_type": "markdown",
   "metadata": {},
   "source": [
    "\n",
    "# Fitting the model"
   ]
  },
  {
   "cell_type": "code",
   "execution_count": 511,
   "metadata": {},
   "outputs": [],
   "source": [
    "from sklearn.model_selection import train_test_split\n",
    "from sklearn import metrics"
   ]
  },
  {
   "cell_type": "code",
   "execution_count": 540,
   "metadata": {},
   "outputs": [],
   "source": [
    "features = [\"Pclass\", \"man\",\"young&women\", \"fares\",\n",
    "                 \"Single\",\"Nuclear\"]"
   ]
  },
  {
   "cell_type": "code",
   "execution_count": 513,
   "metadata": {},
   "outputs": [
    {
     "data": {
      "text/plain": [
       "['Pclass', 'man', 'young&women', 'fares', 'Single', 'Nuclear']"
      ]
     },
     "execution_count": 513,
     "metadata": {},
     "output_type": "execute_result"
    }
   ],
   "source": [
    "features"
   ]
  },
  {
   "cell_type": "code",
   "execution_count": 514,
   "metadata": {},
   "outputs": [
    {
     "data": {
      "text/plain": [
       "'Survived'"
      ]
     },
     "execution_count": 514,
     "metadata": {},
     "output_type": "execute_result"
    }
   ],
   "source": [
    "label=\"Survived\"\n",
    "label"
   ]
  },
  {
   "cell_type": "code",
   "execution_count": 515,
   "metadata": {},
   "outputs": [],
   "source": [
    "x_train = train[features]"
   ]
  },
  {
   "cell_type": "code",
   "execution_count": 516,
   "metadata": {},
   "outputs": [
    {
     "data": {
      "text/html": [
       "<div>\n",
       "<style scoped>\n",
       "    .dataframe tbody tr th:only-of-type {\n",
       "        vertical-align: middle;\n",
       "    }\n",
       "\n",
       "    .dataframe tbody tr th {\n",
       "        vertical-align: top;\n",
       "    }\n",
       "\n",
       "    .dataframe thead th {\n",
       "        text-align: right;\n",
       "    }\n",
       "</style>\n",
       "<table border=\"1\" class=\"dataframe\">\n",
       "  <thead>\n",
       "    <tr style=\"text-align: right;\">\n",
       "      <th></th>\n",
       "      <th>Pclass</th>\n",
       "      <th>man</th>\n",
       "      <th>young&amp;women</th>\n",
       "      <th>fares</th>\n",
       "      <th>Single</th>\n",
       "      <th>Nuclear</th>\n",
       "    </tr>\n",
       "  </thead>\n",
       "  <tbody>\n",
       "    <tr>\n",
       "      <td>0</td>\n",
       "      <td>3</td>\n",
       "      <td>True</td>\n",
       "      <td>False</td>\n",
       "      <td>0.0</td>\n",
       "      <td>False</td>\n",
       "      <td>True</td>\n",
       "    </tr>\n",
       "    <tr>\n",
       "      <td>1</td>\n",
       "      <td>1</td>\n",
       "      <td>False</td>\n",
       "      <td>True</td>\n",
       "      <td>2.0</td>\n",
       "      <td>False</td>\n",
       "      <td>True</td>\n",
       "    </tr>\n",
       "    <tr>\n",
       "      <td>2</td>\n",
       "      <td>3</td>\n",
       "      <td>False</td>\n",
       "      <td>True</td>\n",
       "      <td>0.0</td>\n",
       "      <td>True</td>\n",
       "      <td>False</td>\n",
       "    </tr>\n",
       "    <tr>\n",
       "      <td>3</td>\n",
       "      <td>1</td>\n",
       "      <td>False</td>\n",
       "      <td>True</td>\n",
       "      <td>2.0</td>\n",
       "      <td>False</td>\n",
       "      <td>True</td>\n",
       "    </tr>\n",
       "    <tr>\n",
       "      <td>4</td>\n",
       "      <td>3</td>\n",
       "      <td>True</td>\n",
       "      <td>False</td>\n",
       "      <td>0.0</td>\n",
       "      <td>True</td>\n",
       "      <td>False</td>\n",
       "    </tr>\n",
       "  </tbody>\n",
       "</table>\n",
       "</div>"
      ],
      "text/plain": [
       "   Pclass    man  young&women  fares  Single  Nuclear\n",
       "0       3   True        False    0.0   False     True\n",
       "1       1  False         True    2.0   False     True\n",
       "2       3  False         True    0.0    True    False\n",
       "3       1  False         True    2.0   False     True\n",
       "4       3   True        False    0.0    True    False"
      ]
     },
     "execution_count": 516,
     "metadata": {},
     "output_type": "execute_result"
    }
   ],
   "source": [
    "x_train.head()"
   ]
  },
  {
   "cell_type": "code",
   "execution_count": 517,
   "metadata": {},
   "outputs": [
    {
     "data": {
      "text/plain": [
       "(891, 6)"
      ]
     },
     "execution_count": 517,
     "metadata": {},
     "output_type": "execute_result"
    }
   ],
   "source": [
    "x_train.shape"
   ]
  },
  {
   "cell_type": "code",
   "execution_count": 518,
   "metadata": {},
   "outputs": [
    {
     "data": {
      "text/html": [
       "<div>\n",
       "<style scoped>\n",
       "    .dataframe tbody tr th:only-of-type {\n",
       "        vertical-align: middle;\n",
       "    }\n",
       "\n",
       "    .dataframe tbody tr th {\n",
       "        vertical-align: top;\n",
       "    }\n",
       "\n",
       "    .dataframe thead th {\n",
       "        text-align: right;\n",
       "    }\n",
       "</style>\n",
       "<table border=\"1\" class=\"dataframe\">\n",
       "  <thead>\n",
       "    <tr style=\"text-align: right;\">\n",
       "      <th></th>\n",
       "      <th>Pclass</th>\n",
       "      <th>man</th>\n",
       "      <th>young&amp;women</th>\n",
       "      <th>fares</th>\n",
       "      <th>Single</th>\n",
       "      <th>Nuclear</th>\n",
       "    </tr>\n",
       "  </thead>\n",
       "  <tbody>\n",
       "    <tr>\n",
       "      <td>0</td>\n",
       "      <td>3</td>\n",
       "      <td>True</td>\n",
       "      <td>False</td>\n",
       "      <td>0.0</td>\n",
       "      <td>True</td>\n",
       "      <td>False</td>\n",
       "    </tr>\n",
       "    <tr>\n",
       "      <td>1</td>\n",
       "      <td>3</td>\n",
       "      <td>False</td>\n",
       "      <td>True</td>\n",
       "      <td>0.0</td>\n",
       "      <td>False</td>\n",
       "      <td>True</td>\n",
       "    </tr>\n",
       "    <tr>\n",
       "      <td>2</td>\n",
       "      <td>2</td>\n",
       "      <td>True</td>\n",
       "      <td>False</td>\n",
       "      <td>0.0</td>\n",
       "      <td>True</td>\n",
       "      <td>False</td>\n",
       "    </tr>\n",
       "    <tr>\n",
       "      <td>3</td>\n",
       "      <td>3</td>\n",
       "      <td>True</td>\n",
       "      <td>False</td>\n",
       "      <td>0.0</td>\n",
       "      <td>True</td>\n",
       "      <td>False</td>\n",
       "    </tr>\n",
       "    <tr>\n",
       "      <td>4</td>\n",
       "      <td>3</td>\n",
       "      <td>False</td>\n",
       "      <td>True</td>\n",
       "      <td>1.0</td>\n",
       "      <td>False</td>\n",
       "      <td>True</td>\n",
       "    </tr>\n",
       "  </tbody>\n",
       "</table>\n",
       "</div>"
      ],
      "text/plain": [
       "   Pclass    man  young&women  fares  Single  Nuclear\n",
       "0       3   True        False    0.0    True    False\n",
       "1       3  False         True    0.0   False     True\n",
       "2       2   True        False    0.0    True    False\n",
       "3       3   True        False    0.0    True    False\n",
       "4       3  False         True    1.0   False     True"
      ]
     },
     "execution_count": 518,
     "metadata": {},
     "output_type": "execute_result"
    }
   ],
   "source": [
    "x_test=test[features]\n",
    "x_test.head()"
   ]
  },
  {
   "cell_type": "code",
   "execution_count": 539,
   "metadata": {},
   "outputs": [
    {
     "data": {
      "text/plain": [
       "Pclass         0\n",
       "man            0\n",
       "young&women    0\n",
       "fares          0\n",
       "Single         0\n",
       "Nuclear        0\n",
       "dtype: int64"
      ]
     },
     "execution_count": 539,
     "metadata": {},
     "output_type": "execute_result"
    }
   ],
   "source": [
    "x_test.isnull().sum()"
   ]
  },
  {
   "cell_type": "code",
   "execution_count": 520,
   "metadata": {},
   "outputs": [
    {
     "data": {
      "text/plain": [
       "(418, 6)"
      ]
     },
     "execution_count": 520,
     "metadata": {},
     "output_type": "execute_result"
    }
   ],
   "source": [
    "x_test.shape"
   ]
  },
  {
   "cell_type": "code",
   "execution_count": 521,
   "metadata": {},
   "outputs": [
    {
     "data": {
      "text/plain": [
       "0    0\n",
       "1    1\n",
       "2    1\n",
       "3    1\n",
       "4    0\n",
       "Name: Survived, dtype: int64"
      ]
     },
     "execution_count": 521,
     "metadata": {},
     "output_type": "execute_result"
    }
   ],
   "source": [
    "y_train=train[label]\n",
    "y_train.head()"
   ]
  },
  {
   "cell_type": "code",
   "execution_count": 522,
   "metadata": {},
   "outputs": [],
   "source": [
    "from sklearn.tree import DecisionTreeClassifier"
   ]
  },
  {
   "cell_type": "code",
   "execution_count": 523,
   "metadata": {},
   "outputs": [],
   "source": [
    "model = DecisionTreeClassifier(max_depth=5)"
   ]
  },
  {
   "cell_type": "code",
   "execution_count": 524,
   "metadata": {},
   "outputs": [
    {
     "data": {
      "text/plain": [
       "DecisionTreeClassifier(class_weight=None, criterion='gini', max_depth=5,\n",
       "                       max_features=None, max_leaf_nodes=None,\n",
       "                       min_impurity_decrease=0.0, min_impurity_split=None,\n",
       "                       min_samples_leaf=1, min_samples_split=2,\n",
       "                       min_weight_fraction_leaf=0.0, presort=False,\n",
       "                       random_state=None, splitter='best')"
      ]
     },
     "execution_count": 524,
     "metadata": {},
     "output_type": "execute_result"
    }
   ],
   "source": [
    "model"
   ]
  },
  {
   "cell_type": "code",
   "execution_count": 525,
   "metadata": {
    "scrolled": true
   },
   "outputs": [
    {
     "data": {
      "text/plain": [
       "DecisionTreeClassifier(class_weight=None, criterion='gini', max_depth=5,\n",
       "                       max_features=None, max_leaf_nodes=None,\n",
       "                       min_impurity_decrease=0.0, min_impurity_split=None,\n",
       "                       min_samples_leaf=1, min_samples_split=2,\n",
       "                       min_weight_fraction_leaf=0.0, presort=False,\n",
       "                       random_state=None, splitter='best')"
      ]
     },
     "execution_count": 525,
     "metadata": {},
     "output_type": "execute_result"
    }
   ],
   "source": [
    "model.fit(x_train, y_train)"
   ]
  },
  {
   "cell_type": "code",
   "execution_count": 526,
   "metadata": {},
   "outputs": [],
   "source": [
    "predictions = model.predict(x_test)"
   ]
  },
  {
   "cell_type": "code",
   "execution_count": 527,
   "metadata": {},
   "outputs": [
    {
     "data": {
      "text/plain": [
       "(418,)"
      ]
     },
     "execution_count": 527,
     "metadata": {},
     "output_type": "execute_result"
    }
   ],
   "source": [
    "predictions.shape"
   ]
  },
  {
   "cell_type": "code",
   "execution_count": 528,
   "metadata": {},
   "outputs": [
    {
     "data": {
      "text/plain": [
       "array([0, 1, 0, 0, 1, 0, 1, 0, 1, 0, 0, 0, 1, 0, 1, 1, 0, 0, 1, 1, 0, 1,\n",
       "       1, 0, 1, 0, 1, 0, 0, 0, 0, 0, 1, 1, 0, 0, 1, 1, 0, 0, 0, 0, 0, 1,\n",
       "       1, 0, 0, 0, 1, 1, 0, 0, 1, 1, 0, 1, 0, 0, 0, 1, 0, 0, 0, 1, 1, 1,\n",
       "       1, 0, 0, 1, 1, 0, 1, 0, 1, 0, 0, 1, 0, 1, 1, 0, 0, 0, 0, 0, 1, 1,\n",
       "       1, 1, 1, 0, 1, 0, 0, 0, 1, 0, 1, 0, 1, 0, 0, 0, 1, 0, 0, 0, 0, 0,\n",
       "       0, 1, 1, 1, 1, 0, 0, 1, 0, 1, 1, 0, 1, 0, 0, 1, 0, 1, 0, 0, 0, 0,\n",
       "       1, 0, 0, 0, 0, 0, 1, 0, 1, 1, 0, 0, 0, 0, 0, 0, 0, 0, 1, 0, 0, 1,\n",
       "       1, 0, 1, 1, 0, 1, 1, 1, 1, 0, 0, 1, 0, 0, 1, 1, 0, 0, 0, 0, 0, 1,\n",
       "       1, 0, 1, 1, 0, 0, 1, 0, 1, 0, 1, 0, 1, 0, 0, 0, 1, 0, 1, 0, 1, 1,\n",
       "       0, 1, 1, 1, 0, 1, 0, 0, 1, 0, 1, 0, 0, 0, 0, 1, 0, 0, 1, 0, 1, 0,\n",
       "       1, 0, 1, 0, 1, 1, 0, 1, 0, 0, 0, 1, 0, 0, 0, 0, 0, 0, 1, 1, 1, 1,\n",
       "       0, 0, 1, 1, 1, 0, 1, 1, 1, 0, 0, 0, 0, 0, 0, 0, 1, 0, 0, 0, 1, 1,\n",
       "       0, 0, 0, 0, 1, 0, 0, 0, 1, 1, 0, 1, 0, 0, 0, 0, 1, 1, 1, 1, 1, 0,\n",
       "       0, 0, 0, 0, 0, 1, 0, 0, 0, 0, 1, 0, 0, 0, 0, 0, 0, 0, 1, 1, 0, 1,\n",
       "       0, 1, 0, 0, 0, 1, 1, 1, 0, 1, 0, 0, 0, 0, 0, 0, 1, 0, 1, 0, 0, 0,\n",
       "       1, 0, 0, 1, 0, 0, 0, 0, 0, 1, 0, 0, 0, 1, 1, 1, 0, 1, 0, 1, 1, 0,\n",
       "       0, 0, 1, 0, 1, 0, 0, 1, 1, 1, 1, 0, 1, 1, 0, 1, 1, 0, 0, 1, 0, 0,\n",
       "       1, 1, 1, 0, 0, 1, 0, 0, 1, 1, 0, 1, 0, 0, 0, 1, 0, 1, 1, 0, 0, 1,\n",
       "       0, 1, 1, 0, 1, 0, 1, 0, 0, 0, 0, 0, 1, 1, 1, 1, 1, 0, 1, 0, 0, 1],\n",
       "      dtype=int64)"
      ]
     },
     "execution_count": 528,
     "metadata": {},
     "output_type": "execute_result"
    }
   ],
   "source": [
    "predictions"
   ]
  },
  {
   "cell_type": "code",
   "execution_count": 529,
   "metadata": {},
   "outputs": [],
   "source": [
    "submission = pd.read_csv(\"C:/Users/User/Downloads/titanic/gender_submission.csv\", index_col=\"PassengerId\")"
   ]
  },
  {
   "cell_type": "code",
   "execution_count": 530,
   "metadata": {},
   "outputs": [
    {
     "data": {
      "text/html": [
       "<div>\n",
       "<style scoped>\n",
       "    .dataframe tbody tr th:only-of-type {\n",
       "        vertical-align: middle;\n",
       "    }\n",
       "\n",
       "    .dataframe tbody tr th {\n",
       "        vertical-align: top;\n",
       "    }\n",
       "\n",
       "    .dataframe thead th {\n",
       "        text-align: right;\n",
       "    }\n",
       "</style>\n",
       "<table border=\"1\" class=\"dataframe\">\n",
       "  <thead>\n",
       "    <tr style=\"text-align: right;\">\n",
       "      <th></th>\n",
       "      <th>Survived</th>\n",
       "    </tr>\n",
       "    <tr>\n",
       "      <th>PassengerId</th>\n",
       "      <th></th>\n",
       "    </tr>\n",
       "  </thead>\n",
       "  <tbody>\n",
       "    <tr>\n",
       "      <td>892</td>\n",
       "      <td>0</td>\n",
       "    </tr>\n",
       "    <tr>\n",
       "      <td>893</td>\n",
       "      <td>1</td>\n",
       "    </tr>\n",
       "    <tr>\n",
       "      <td>894</td>\n",
       "      <td>0</td>\n",
       "    </tr>\n",
       "    <tr>\n",
       "      <td>895</td>\n",
       "      <td>0</td>\n",
       "    </tr>\n",
       "    <tr>\n",
       "      <td>896</td>\n",
       "      <td>1</td>\n",
       "    </tr>\n",
       "  </tbody>\n",
       "</table>\n",
       "</div>"
      ],
      "text/plain": [
       "             Survived\n",
       "PassengerId          \n",
       "892                 0\n",
       "893                 1\n",
       "894                 0\n",
       "895                 0\n",
       "896                 1"
      ]
     },
     "execution_count": 530,
     "metadata": {},
     "output_type": "execute_result"
    }
   ],
   "source": [
    "submission.head()"
   ]
  },
  {
   "cell_type": "code",
   "execution_count": 531,
   "metadata": {},
   "outputs": [
    {
     "data": {
      "text/plain": [
       "(418, 1)"
      ]
     },
     "execution_count": 531,
     "metadata": {},
     "output_type": "execute_result"
    }
   ],
   "source": [
    "submission.shape"
   ]
  },
  {
   "cell_type": "code",
   "execution_count": 532,
   "metadata": {},
   "outputs": [],
   "source": [
    "submission[\"Survived\"] = predictions"
   ]
  },
  {
   "cell_type": "code",
   "execution_count": 533,
   "metadata": {},
   "outputs": [],
   "source": [
    "y_train=predictions"
   ]
  },
  {
   "cell_type": "code",
   "execution_count": 534,
   "metadata": {},
   "outputs": [
    {
     "name": "stdout",
     "output_type": "stream",
     "text": [
      "1.0\n"
     ]
    }
   ],
   "source": [
    "print(metrics.accuracy_score(predictions, y_train))"
   ]
  },
  {
   "cell_type": "code",
   "execution_count": 535,
   "metadata": {},
   "outputs": [
    {
     "data": {
      "text/html": [
       "<div>\n",
       "<style scoped>\n",
       "    .dataframe tbody tr th:only-of-type {\n",
       "        vertical-align: middle;\n",
       "    }\n",
       "\n",
       "    .dataframe tbody tr th {\n",
       "        vertical-align: top;\n",
       "    }\n",
       "\n",
       "    .dataframe thead th {\n",
       "        text-align: right;\n",
       "    }\n",
       "</style>\n",
       "<table border=\"1\" class=\"dataframe\">\n",
       "  <thead>\n",
       "    <tr style=\"text-align: right;\">\n",
       "      <th></th>\n",
       "      <th>Survived</th>\n",
       "    </tr>\n",
       "    <tr>\n",
       "      <th>PassengerId</th>\n",
       "      <th></th>\n",
       "    </tr>\n",
       "  </thead>\n",
       "  <tbody>\n",
       "    <tr>\n",
       "      <td>892</td>\n",
       "      <td>0</td>\n",
       "    </tr>\n",
       "    <tr>\n",
       "      <td>893</td>\n",
       "      <td>1</td>\n",
       "    </tr>\n",
       "    <tr>\n",
       "      <td>894</td>\n",
       "      <td>0</td>\n",
       "    </tr>\n",
       "    <tr>\n",
       "      <td>895</td>\n",
       "      <td>0</td>\n",
       "    </tr>\n",
       "    <tr>\n",
       "      <td>896</td>\n",
       "      <td>1</td>\n",
       "    </tr>\n",
       "  </tbody>\n",
       "</table>\n",
       "</div>"
      ],
      "text/plain": [
       "             Survived\n",
       "PassengerId          \n",
       "892                 0\n",
       "893                 1\n",
       "894                 0\n",
       "895                 0\n",
       "896                 1"
      ]
     },
     "execution_count": 535,
     "metadata": {},
     "output_type": "execute_result"
    }
   ],
   "source": [
    "submission.head()"
   ]
  },
  {
   "cell_type": "code",
   "execution_count": 536,
   "metadata": {},
   "outputs": [],
   "source": [
    "submission.to_csv(\"C:/Users/User/Downloads/titanic/finish.csv\")"
   ]
  },
  {
   "cell_type": "code",
   "execution_count": 499,
   "metadata": {},
   "outputs": [
    {
     "data": {
      "application/vnd.jupyter.widget-view+json": {
       "model_id": "fcd74a0f40214764b7c6910f48cc8186",
       "version_major": 2,
       "version_minor": 0
      },
      "text/plain": [
       "Tab(children=(HTML(value='<div id=\"overview-content\" class=\"row variable spacing\">\\n    <div class=\"row\">\\n   …"
      ]
     },
     "metadata": {},
     "output_type": "display_data"
    },
    {
     "data": {
      "text/html": [
       "Report generated with <a href=\"https://github.com/pandas-profiling/pandas-profiling\">pandas-profiling</a>."
      ],
      "text/plain": [
       "<IPython.core.display.HTML object>"
      ]
     },
     "metadata": {},
     "output_type": "display_data"
    },
    {
     "data": {
      "text/plain": []
     },
     "execution_count": 499,
     "metadata": {},
     "output_type": "execute_result"
    }
   ],
   "source": [
    "import pandas_profiling\n",
    "submission.profile_report()"
   ]
  },
  {
   "cell_type": "code",
   "execution_count": 538,
   "metadata": {},
   "outputs": [
    {
     "data": {
      "application/vnd.jupyter.widget-view+json": {
       "model_id": "ea0098462c62437ba1f566ded221a3bf",
       "version_major": 2,
       "version_minor": 0
      },
      "text/plain": [
       "Tab(children=(HTML(value='<div id=\"overview-content\" class=\"row variable spacing\">\\n    <div class=\"row\">\\n   …"
      ]
     },
     "metadata": {},
     "output_type": "display_data"
    },
    {
     "data": {
      "text/html": [
       "Report generated with <a href=\"https://github.com/pandas-profiling/pandas-profiling\">pandas-profiling</a>."
      ],
      "text/plain": [
       "<IPython.core.display.HTML object>"
      ]
     },
     "metadata": {},
     "output_type": "display_data"
    },
    {
     "data": {
      "text/plain": []
     },
     "execution_count": 538,
     "metadata": {},
     "output_type": "execute_result"
    }
   ],
   "source": [
    "train.profile_report()"
   ]
  },
  {
   "cell_type": "code",
   "execution_count": null,
   "metadata": {},
   "outputs": [],
   "source": []
  }
 ],
 "metadata": {
  "kernelspec": {
   "display_name": "Python 3",
   "language": "python",
   "name": "python3"
  },
  "language_info": {
   "codemirror_mode": {
    "name": "ipython",
    "version": 3
   },
   "file_extension": ".py",
   "mimetype": "text/x-python",
   "name": "python",
   "nbconvert_exporter": "python",
   "pygments_lexer": "ipython3",
   "version": "3.7.4"
  }
 },
 "nbformat": 4,
 "nbformat_minor": 2
}
