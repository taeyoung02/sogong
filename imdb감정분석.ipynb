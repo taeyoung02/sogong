{
  "nbformat": 4,
  "nbformat_minor": 0,
  "metadata": {
    "colab": {
      "name": "imdb감정분석.ipynb",
      "provenance": [],
      "private_outputs": true,
      "collapsed_sections": [],
      "machine_shape": "hm",
      "authorship_tag": "ABX9TyOlngChiqrQtrmCWrOd+FY8",
      "include_colab_link": true
    },
    "kernelspec": {
      "name": "python3",
      "display_name": "Python 3"
    }
  },
  "cells": [
    {
      "cell_type": "markdown",
      "metadata": {
        "id": "view-in-github",
        "colab_type": "text"
      },
      "source": [
        "<a href=\"https://colab.research.google.com/github/taeyoung02/taeyoung02.github.io/blob/master/imdb%EA%B0%90%EC%A0%95%EB%B6%84%EC%84%9D.ipynb\" target=\"_parent\"><img src=\"https://colab.research.google.com/assets/colab-badge.svg\" alt=\"Open In Colab\"/></a>"
      ]
    },
    {
      "cell_type": "code",
      "metadata": {
        "id": "JgQu4gXrpmCR",
        "colab_type": "code",
        "colab": {}
      },
      "source": [
        "from keras.datasets import imdb\n",
        "import numpy as np"
      ],
      "execution_count": 0,
      "outputs": []
    },
    {
      "cell_type": "code",
      "metadata": {
        "id": "84f01i3vp94y",
        "colab_type": "code",
        "colab": {}
      },
      "source": [
        ""
      ],
      "execution_count": 0,
      "outputs": []
    },
    {
      "cell_type": "code",
      "metadata": {
        "id": "XEdaOSvBppe5",
        "colab_type": "code",
        "colab": {}
      },
      "source": [
        "(train_data, train_labels), (test_data, test_labels)=imdb.load_data(num_words=10000)"
      ],
      "execution_count": 0,
      "outputs": []
    },
    {
      "cell_type": "code",
      "metadata": {
        "id": "7O2ZMvvAqnO5",
        "colab_type": "code",
        "colab": {}
      },
      "source": [
        "max([max(sequence) for sequence in train_data])"
      ],
      "execution_count": 0,
      "outputs": []
    },
    {
      "cell_type": "code",
      "metadata": {
        "id": "D7rrK13YrR5D",
        "colab_type": "code",
        "colab": {}
      },
      "source": [
        "train_data,len(train_data)"
      ],
      "execution_count": 0,
      "outputs": []
    },
    {
      "cell_type": "code",
      "metadata": {
        "id": "Bu48S88Cq8JI",
        "colab_type": "code",
        "colab": {}
      },
      "source": [
        "train_labels"
      ],
      "execution_count": 0,
      "outputs": []
    },
    {
      "cell_type": "code",
      "metadata": {
        "id": "I_NvtSptrNlg",
        "colab_type": "code",
        "colab": {}
      },
      "source": [
        "test_data, len(test_data)"
      ],
      "execution_count": 0,
      "outputs": []
    },
    {
      "cell_type": "code",
      "metadata": {
        "id": "rpMldwKOrYeU",
        "colab_type": "code",
        "colab": {}
      },
      "source": [
        "#원래 문장으로 바꿔보기\n",
        "word_index=imdb.get_word_index()\n",
        "word_index"
      ],
      "execution_count": 0,
      "outputs": []
    },
    {
      "cell_type": "code",
      "metadata": {
        "id": "sRYzetr-rwPB",
        "colab_type": "code",
        "colab": {}
      },
      "source": [
        "reverse_word_index = dict(\n",
        "    [(value,key) for (key, value) in word_index.items()]\n",
        ")"
      ],
      "execution_count": 0,
      "outputs": []
    },
    {
      "cell_type": "code",
      "metadata": {
        "id": "sXroqxQar-Vy",
        "colab_type": "code",
        "colab": {}
      },
      "source": [
        "decoded_review=' '.join(\n",
        "    [reverse_word_index.get(i-3, '?') for i in train_data[0]]\n",
        ")\n",
        "decoded_review"
      ],
      "execution_count": 0,
      "outputs": []
    },
    {
      "cell_type": "code",
      "metadata": {
        "id": "ka6dCsrBsMv_",
        "colab_type": "code",
        "colab": {}
      },
      "source": [
        "#[1,3,5,6]=[0,1,0,1,0,1,1]\n",
        "#신경망에 숫자리스트를 넣을수없기 때문에 텐서를 넣어주는데\n",
        "#원핫인코딩으로 바꿔준다\n",
        "def vectorize_sequences(sequences, dimension=10000):\n",
        "    results=np.zeros((len(sequences), dimension))#크기가 (len(sequences), dimension)이고 모든원소가 0\n",
        "    for i, sequence in enumerate(sequences):\n",
        "        results[i,sequence]=1. #원핫인코딩(result[i][j]만 1이고 나머지 다 0)\n",
        "    return results\n",
        "\n",
        "x_train=vectorize_sequences(train_data)\n",
        "x_test=vectorize_sequences(test_data)"
      ],
      "execution_count": 0,
      "outputs": []
    },
    {
      "cell_type": "code",
      "metadata": {
        "id": "fck7lONvtBB0",
        "colab_type": "code",
        "colab": {}
      },
      "source": [
        "x_train,len(x_train)"
      ],
      "execution_count": 0,
      "outputs": []
    },
    {
      "cell_type": "code",
      "metadata": {
        "id": "lKLNCOr-uILb",
        "colab_type": "code",
        "colab": {}
      },
      "source": [
        "#벡터로 변환\n",
        "y_train=np.asarray(train_labels).astype('float32')\n",
        "y_test=np.asarray(test_labels).astype('float32')\n",
        "y_train,y_test"
      ],
      "execution_count": 0,
      "outputs": []
    },
    {
      "cell_type": "code",
      "metadata": {
        "id": "eUimR8oXuWDG",
        "colab_type": "code",
        "colab": {}
      },
      "source": [
        "from tensorflow.python.keras import models\n",
        "from tensorflow.python.keras import layers"
      ],
      "execution_count": 0,
      "outputs": []
    },
    {
      "cell_type": "code",
      "metadata": {
        "id": "K3ld9MsU4WTV",
        "colab_type": "code",
        "colab": {}
      },
      "source": [
        "model=models.Sequential()\n",
        "model.add(layers.Dense(16, activation='relu', input_shape=(10000,)))#은닉층\n",
        "#model.add(layers.Dense(16, activation='relu'))#은닉층 은닉유닛 16개 = 16차원. 신경망의 데이터의 복잡도\n",
        "model.add(layers.Dense(1, activation='sigmoid'))#출력층"
      ],
      "execution_count": 0,
      "outputs": []
    },
    {
      "cell_type": "code",
      "metadata": {
        "id": "WEG8O1cf4qC9",
        "colab_type": "code",
        "colab": {}
      },
      "source": [
        "model.compile(optimizer='rmsprop',#rmsprop 경사하강법(빠름)\n",
        "              loss='binary_crossentropy',\n",
        "              metrics=['accuracy'])"
      ],
      "execution_count": 0,
      "outputs": []
    },
    {
      "cell_type": "code",
      "metadata": {
        "id": "gH5rbqjB8RuQ",
        "colab_type": "code",
        "colab": {}
      },
      "source": [
        "x_val=x_train[:10000]\n",
        "partial_x_train=x_train[10000:]\n",
        "y_val=y_train[:10000]\n",
        "partial_y_train=y_train[10000:]"
      ],
      "execution_count": 0,
      "outputs": []
    },
    {
      "cell_type": "code",
      "metadata": {
        "id": "I814_Q-m9c7U",
        "colab_type": "code",
        "colab": {}
      },
      "source": [
        "history=model.fit(partial_x_train,\n",
        "                  partial_y_train,\n",
        "                  epochs=20,\n",
        "                  batch_size=512,\n",
        "                  validation_data=(x_val, y_val))"
      ],
      "execution_count": 0,
      "outputs": []
    },
    {
      "cell_type": "code",
      "metadata": {
        "id": "vtb_mb5B97aF",
        "colab_type": "code",
        "colab": {}
      },
      "source": [
        "import matplotlib.pyplot as plt"
      ],
      "execution_count": 0,
      "outputs": []
    },
    {
      "cell_type": "code",
      "metadata": {
        "id": "C2j8wvwM-v8A",
        "colab_type": "code",
        "colab": {}
      },
      "source": [
        "history_dict=history.history\n",
        "loss=history_dict['loss']\n",
        "val_loss=history_dict['val_loss']\n",
        "\n",
        "epochs=range(1, len(loss) +1)\n",
        "\n",
        "plt.plot(epochs, loss, 'bo', label='Training loss')\n",
        "plt.plot(epochs, val_loss, 'b', label='Validation loss')\n",
        "plt.title('Training and validation loss')\n",
        "plt.xlabel('Epochs')\n",
        "plt.ylabel('Loss')\n",
        "plt.legend()\n",
        "\n",
        "plt.show()"
      ],
      "execution_count": 0,
      "outputs": []
    },
    {
      "cell_type": "code",
      "metadata": {
        "id": "U9W2sbWk_Mxf",
        "colab_type": "code",
        "colab": {}
      },
      "source": [
        "loss"
      ],
      "execution_count": 0,
      "outputs": []
    },
    {
      "cell_type": "code",
      "metadata": {
        "id": "bteVf4LIBv4Q",
        "colab_type": "code",
        "colab": {}
      },
      "source": [
        "plt.clf()\n",
        "acc=history_dict['accuracy']\n",
        "val_acc = history_dict['val_accuracy']\n",
        "\n",
        "plt.plot(epochs, acc ,'bo', label='Traning acc')\n",
        "plt.plot(epochs, val_acc, 'b', label='Validation acc')\n",
        "plt.title('Training and validation acc')\n",
        "plt.xlabel('Epochs')\n",
        "plt.ylabel('Accuracy')\n",
        "plt.legend()\n",
        "\n",
        "plt.show()"
      ],
      "execution_count": 0,
      "outputs": []
    },
    {
      "cell_type": "markdown",
      "metadata": {
        "id": "BMlF0jEcDNOF",
        "colab_type": "text"
      },
      "source": [
        "epoch을 20이나 해버려서 훈련데이터가 검증데이터에 적용이안되고    \n",
        "훈련데이터에 과대적합되버림   \n",
        "epoch을 낮춰본다 "
      ]
    },
    {
      "cell_type": "code",
      "metadata": {
        "id": "h3sm7sIgDaZV",
        "colab_type": "code",
        "colab": {}
      },
      "source": [
        "model=models.Sequential()\n",
        "model.add(layers.Dense(64, activation='relu', input_shape=(10000,)))\n",
        "model.add(layers.Dense(64, activation='relu'))\n",
        "model.add(layers.Dense(64, activation='relu'))\n",
        "model.add(layers.Dense(1, activation='sigmoid'))\n",
        "\n",
        "model.compile(optimizer='rmsprop',\n",
        "              loss='binary_crossentropy',\n",
        "              metrics=['accuracy'])\n",
        "model.fit(x_train, y_train, epochs=4, batch_size=512)"
      ],
      "execution_count": 0,
      "outputs": []
    },
    {
      "cell_type": "code",
      "metadata": {
        "id": "KNR-Q5ouEBc8",
        "colab_type": "code",
        "colab": {}
      },
      "source": [
        "results=model.evaluate(x_test,y_test)\n",
        "results "
      ],
      "execution_count": 0,
      "outputs": []
    },
    {
      "cell_type": "markdown",
      "metadata": {
        "id": "WDHqRRY8FcuH",
        "colab_type": "text"
      },
      "source": [
        "손실과 정확도 반환"
      ]
    },
    {
      "cell_type": "code",
      "metadata": {
        "id": "8ngtohxNEccV",
        "colab_type": "code",
        "colab": {}
      },
      "source": [
        "y_hat=model.predict(x_test)\n",
        "y_hat"
      ],
      "execution_count": 0,
      "outputs": []
    },
    {
      "cell_type": "code",
      "metadata": {
        "id": "hHb-zvVWFymd",
        "colab_type": "code",
        "colab": {}
      },
      "source": [
        "y_test"
      ],
      "execution_count": 0,
      "outputs": []
    },
    {
      "cell_type": "code",
      "metadata": {
        "id": "nqrTr6LyQEVl",
        "colab_type": "code",
        "colab": {}
      },
      "source": [
        ""
      ],
      "execution_count": 0,
      "outputs": []
    },
    {
      "cell_type": "markdown",
      "metadata": {
        "id": "jiAYsqtHzyWl",
        "colab_type": "text"
      },
      "source": [
        "**정리**   \n",
        "이진분류문제에서 네트워크는 하나의 유닛과(차원) sigmoid함수를 가진   \n",
        "Dense층으로 끝나야 한다. (0과1사이의 스칼라 값이기 때문)   \n",
        "이진분류문제의 손실함수는 binary_crossentropy   \n"
      ]
    },
    {
      "cell_type": "code",
      "metadata": {
        "id": "w87D2FKq0NGe",
        "colab_type": "code",
        "colab": {}
      },
      "source": [
        ""
      ],
      "execution_count": 0,
      "outputs": []
    }
  ]
}